{
 "cells": [
  {
   "cell_type": "markdown",
   "metadata": {
    "collapsed": true
   },
   "source": [
    "# Pymaceuticals Inc."
   ]
  },
  {
   "cell_type": "markdown",
   "metadata": {},
   "source": [
    "    # Analysis\n",
    "        Observed Trend 1\n",
    "            Overall Capomulin had good affects - Tumor volume decreased over time\n",
    "        Observed Trend 2\n",
    "            Survival rate is high for Capomulin\n",
    "            Survival rate is losw for Infubinol\n",
    "        Observed Trend 3\n",
    "            Increase in total Metastatic Sites  very low for Capomulin\n",
    "            Though the incline in metastatic sits is low for Ketrapil compared to Placebo, the fianl surival count by the end of treatment(day-45) is same for both. \n",
    "            "
   ]
  },
  {
   "cell_type": "code",
   "execution_count": 94,
   "metadata": {
    "collapsed": true
   },
   "outputs": [],
   "source": [
    "#import required packages\n",
    "import os\n",
    "import pandas as pd\n",
    "import numpy as np\n",
    "import matplotlib.pyplot as plt\n",
    "from IPython.core.interactiveshell import InteractiveShell\n",
    "InteractiveShell.ast_node_interactivity = \"all\"\n",
    "from numpy.random import randn"
   ]
  },
  {
   "cell_type": "code",
   "execution_count": 96,
   "metadata": {},
   "outputs": [
    {
     "data": {
      "text/html": [
       "<div>\n",
       "<style scoped>\n",
       "    .dataframe tbody tr th:only-of-type {\n",
       "        vertical-align: middle;\n",
       "    }\n",
       "\n",
       "    .dataframe tbody tr th {\n",
       "        vertical-align: top;\n",
       "    }\n",
       "\n",
       "    .dataframe thead th {\n",
       "        text-align: right;\n",
       "    }\n",
       "</style>\n",
       "<table border=\"1\" class=\"dataframe\">\n",
       "  <thead>\n",
       "    <tr style=\"text-align: right;\">\n",
       "      <th></th>\n",
       "      <th>Mouse ID</th>\n",
       "      <th>Timepoint</th>\n",
       "      <th>Tumor Volume (mm3)</th>\n",
       "      <th>Metastatic Sites</th>\n",
       "      <th>Drug</th>\n",
       "    </tr>\n",
       "  </thead>\n",
       "  <tbody>\n",
       "    <tr>\n",
       "      <th>0</th>\n",
       "      <td>b128</td>\n",
       "      <td>0</td>\n",
       "      <td>45.0</td>\n",
       "      <td>0</td>\n",
       "      <td>Capomulin</td>\n",
       "    </tr>\n",
       "    <tr>\n",
       "      <th>1</th>\n",
       "      <td>b128</td>\n",
       "      <td>5</td>\n",
       "      <td>45.7</td>\n",
       "      <td>0</td>\n",
       "      <td>Capomulin</td>\n",
       "    </tr>\n",
       "    <tr>\n",
       "      <th>2</th>\n",
       "      <td>b128</td>\n",
       "      <td>10</td>\n",
       "      <td>43.3</td>\n",
       "      <td>0</td>\n",
       "      <td>Capomulin</td>\n",
       "    </tr>\n",
       "    <tr>\n",
       "      <th>3</th>\n",
       "      <td>b128</td>\n",
       "      <td>15</td>\n",
       "      <td>43.8</td>\n",
       "      <td>0</td>\n",
       "      <td>Capomulin</td>\n",
       "    </tr>\n",
       "    <tr>\n",
       "      <th>4</th>\n",
       "      <td>b128</td>\n",
       "      <td>20</td>\n",
       "      <td>42.7</td>\n",
       "      <td>0</td>\n",
       "      <td>Capomulin</td>\n",
       "    </tr>\n",
       "  </tbody>\n",
       "</table>\n",
       "</div>"
      ],
      "text/plain": [
       "  Mouse ID  Timepoint  Tumor Volume (mm3)  Metastatic Sites       Drug\n",
       "0     b128          0                45.0                 0  Capomulin\n",
       "1     b128          5                45.7                 0  Capomulin\n",
       "2     b128         10                43.3                 0  Capomulin\n",
       "3     b128         15                43.8                 0  Capomulin\n",
       "4     b128         20                42.7                 0  Capomulin"
      ]
     },
     "execution_count": 96,
     "metadata": {},
     "output_type": "execute_result"
    }
   ],
   "source": [
    "#assign the file names to variables\n",
    "clinicaltrial_data = os.path.join('raw_data','2_clinicaltrial_data.csv')\n",
    "mouse_drug_data = os.path.join('raw_data','2_mouse_drug_data.csv')\n",
    "\n",
    "#create data frames to hold each of these data sets\n",
    "clinicaltrial_DF = pd.read_csv(clinicaltrial_data)\n",
    "mouse_drug_DF = pd.read_csv(mouse_drug_data)\n",
    "\n",
    "#merge the 2 datasets into a single dataset\n",
    "clinicaltrial_mouseDrug_DF = pd.merge(clinicaltrial_DF,mouse_drug_DF,on='Mouse ID')\n",
    "clinicaltrial_mouseDrug_DF['Tumor Volume (mm3)'] = clinicaltrial_mouseDrug_DF['Tumor Volume (mm3)'].round(1)\n",
    "clinicaltrial_mouseDrug_DF.head(5)\n"
   ]
  },
  {
   "cell_type": "markdown",
   "metadata": {},
   "source": [
    "# Tumor Response to Treatment"
   ]
  },
  {
   "cell_type": "code",
   "execution_count": 98,
   "metadata": {},
   "outputs": [
    {
     "data": {
      "text/html": [
       "<div>\n",
       "<style scoped>\n",
       "    .dataframe tbody tr th:only-of-type {\n",
       "        vertical-align: middle;\n",
       "    }\n",
       "\n",
       "    .dataframe tbody tr th {\n",
       "        vertical-align: top;\n",
       "    }\n",
       "\n",
       "    .dataframe thead th {\n",
       "        text-align: right;\n",
       "    }\n",
       "</style>\n",
       "<table border=\"1\" class=\"dataframe\">\n",
       "  <thead>\n",
       "    <tr style=\"text-align: right;\">\n",
       "      <th></th>\n",
       "      <th></th>\n",
       "      <th>Tumor Volume (mm3)</th>\n",
       "    </tr>\n",
       "    <tr>\n",
       "      <th>Drug</th>\n",
       "      <th>Timepoint</th>\n",
       "      <th></th>\n",
       "    </tr>\n",
       "  </thead>\n",
       "  <tbody>\n",
       "    <tr>\n",
       "      <th rowspan=\"5\" valign=\"top\">Capomulin</th>\n",
       "      <th>0</th>\n",
       "      <td>45.000000</td>\n",
       "    </tr>\n",
       "    <tr>\n",
       "      <th>5</th>\n",
       "      <td>44.268000</td>\n",
       "    </tr>\n",
       "    <tr>\n",
       "      <th>10</th>\n",
       "      <td>43.080000</td>\n",
       "    </tr>\n",
       "    <tr>\n",
       "      <th>15</th>\n",
       "      <td>42.066667</td>\n",
       "    </tr>\n",
       "    <tr>\n",
       "      <th>20</th>\n",
       "      <td>40.717391</td>\n",
       "    </tr>\n",
       "  </tbody>\n",
       "</table>\n",
       "</div>"
      ],
      "text/plain": [
       "                     Tumor Volume (mm3)\n",
       "Drug      Timepoint                    \n",
       "Capomulin 0                   45.000000\n",
       "          5                   44.268000\n",
       "          10                  43.080000\n",
       "          15                  42.066667\n",
       "          20                  40.717391"
      ]
     },
     "execution_count": 98,
     "metadata": {},
     "output_type": "execute_result"
    }
   ],
   "source": [
    "#create a data group by drug name and timepoint\n",
    "tumorResponse_Group = clinicaltrial_mouseDrug_DF.groupby(['Drug','Timepoint'])\n",
    "\n",
    "#Avg tumor volume by drug and timepoint\n",
    "tumorResponse = tumorResponse_Group['Tumor Volume (mm3)'].mean()\n",
    "tumorResponse_DF = pd.DataFrame(tumorResponse)\n",
    "\n",
    "tumorResponse_DF.head()"
   ]
  },
  {
   "cell_type": "code",
   "execution_count": 99,
   "metadata": {},
   "outputs": [
    {
     "data": {
      "text/html": [
       "<div>\n",
       "<style scoped>\n",
       "    .dataframe tbody tr th:only-of-type {\n",
       "        vertical-align: middle;\n",
       "    }\n",
       "\n",
       "    .dataframe tbody tr th {\n",
       "        vertical-align: top;\n",
       "    }\n",
       "\n",
       "    .dataframe thead th {\n",
       "        text-align: right;\n",
       "    }\n",
       "</style>\n",
       "<table border=\"1\" class=\"dataframe\">\n",
       "  <thead>\n",
       "    <tr style=\"text-align: right;\">\n",
       "      <th></th>\n",
       "      <th></th>\n",
       "      <th>Tumor Volume (mm3)</th>\n",
       "    </tr>\n",
       "    <tr>\n",
       "      <th>Drug</th>\n",
       "      <th>Timepoint</th>\n",
       "      <th></th>\n",
       "    </tr>\n",
       "  </thead>\n",
       "  <tbody>\n",
       "    <tr>\n",
       "      <th rowspan=\"5\" valign=\"top\">Capomulin</th>\n",
       "      <th>0</th>\n",
       "      <td>0.000000</td>\n",
       "    </tr>\n",
       "    <tr>\n",
       "      <th>5</th>\n",
       "      <td>0.449137</td>\n",
       "    </tr>\n",
       "    <tr>\n",
       "      <th>10</th>\n",
       "      <td>0.704036</td>\n",
       "    </tr>\n",
       "    <tr>\n",
       "      <th>15</th>\n",
       "      <td>0.837107</td>\n",
       "    </tr>\n",
       "    <tr>\n",
       "      <th>20</th>\n",
       "      <td>0.908820</td>\n",
       "    </tr>\n",
       "  </tbody>\n",
       "</table>\n",
       "</div>"
      ],
      "text/plain": [
       "                     Tumor Volume (mm3)\n",
       "Drug      Timepoint                    \n",
       "Capomulin 0                    0.000000\n",
       "          5                    0.449137\n",
       "          10                   0.704036\n",
       "          15                   0.837107\n",
       "          20                   0.908820"
      ]
     },
     "execution_count": 99,
     "metadata": {},
     "output_type": "execute_result"
    }
   ],
   "source": [
    "#find the error over tumor volume\n",
    "tumorResponseError = tumorResponse_Group['Tumor Volume (mm3)'].sem()\n",
    "tumorResponseError_DF = pd.DataFrame(tumorResponseError)\n",
    "tumorResponseError_DF.head(5)\n"
   ]
  },
  {
   "cell_type": "code",
   "execution_count": 102,
   "metadata": {},
   "outputs": [
    {
     "data": {
      "text/html": [
       "<div>\n",
       "<style scoped>\n",
       "    .dataframe tbody tr th:only-of-type {\n",
       "        vertical-align: middle;\n",
       "    }\n",
       "\n",
       "    .dataframe tbody tr th {\n",
       "        vertical-align: top;\n",
       "    }\n",
       "\n",
       "    .dataframe thead th {\n",
       "        text-align: right;\n",
       "    }\n",
       "</style>\n",
       "<table border=\"1\" class=\"dataframe\">\n",
       "  <thead>\n",
       "    <tr style=\"text-align: right;\">\n",
       "      <th>Drug</th>\n",
       "      <th>Capomulin</th>\n",
       "      <th>Ceftamin</th>\n",
       "      <th>Infubinol</th>\n",
       "      <th>Ketapril</th>\n",
       "      <th>Naftisol</th>\n",
       "      <th>Placebo</th>\n",
       "      <th>Propriva</th>\n",
       "      <th>Ramicane</th>\n",
       "      <th>Stelasyn</th>\n",
       "      <th>Zoniferol</th>\n",
       "    </tr>\n",
       "    <tr>\n",
       "      <th>Timepoint</th>\n",
       "      <th></th>\n",
       "      <th></th>\n",
       "      <th></th>\n",
       "      <th></th>\n",
       "      <th></th>\n",
       "      <th></th>\n",
       "      <th></th>\n",
       "      <th></th>\n",
       "      <th></th>\n",
       "      <th></th>\n",
       "    </tr>\n",
       "  </thead>\n",
       "  <tbody>\n",
       "    <tr>\n",
       "      <th>0</th>\n",
       "      <td>45.000000</td>\n",
       "      <td>45.000000</td>\n",
       "      <td>45.000000</td>\n",
       "      <td>45.000000</td>\n",
       "      <td>45.000000</td>\n",
       "      <td>45.000000</td>\n",
       "      <td>45.000000</td>\n",
       "      <td>45.000000</td>\n",
       "      <td>45.000000</td>\n",
       "      <td>45.000000</td>\n",
       "    </tr>\n",
       "    <tr>\n",
       "      <th>5</th>\n",
       "      <td>44.268000</td>\n",
       "      <td>46.504762</td>\n",
       "      <td>47.076000</td>\n",
       "      <td>47.400000</td>\n",
       "      <td>46.791304</td>\n",
       "      <td>47.133333</td>\n",
       "      <td>47.256000</td>\n",
       "      <td>43.948000</td>\n",
       "      <td>47.528000</td>\n",
       "      <td>46.850000</td>\n",
       "    </tr>\n",
       "    <tr>\n",
       "      <th>10</th>\n",
       "      <td>43.080000</td>\n",
       "      <td>48.290000</td>\n",
       "      <td>49.409524</td>\n",
       "      <td>49.577273</td>\n",
       "      <td>48.700000</td>\n",
       "      <td>49.416667</td>\n",
       "      <td>49.095652</td>\n",
       "      <td>42.533333</td>\n",
       "      <td>49.465217</td>\n",
       "      <td>48.686364</td>\n",
       "    </tr>\n",
       "    <tr>\n",
       "      <th>15</th>\n",
       "      <td>42.066667</td>\n",
       "      <td>50.089474</td>\n",
       "      <td>51.290476</td>\n",
       "      <td>52.400000</td>\n",
       "      <td>50.933333</td>\n",
       "      <td>51.360000</td>\n",
       "      <td>51.070588</td>\n",
       "      <td>41.495833</td>\n",
       "      <td>51.534783</td>\n",
       "      <td>50.780952</td>\n",
       "    </tr>\n",
       "    <tr>\n",
       "      <th>20</th>\n",
       "      <td>40.717391</td>\n",
       "      <td>52.150000</td>\n",
       "      <td>53.195000</td>\n",
       "      <td>54.926316</td>\n",
       "      <td>53.640000</td>\n",
       "      <td>54.357895</td>\n",
       "      <td>53.341176</td>\n",
       "      <td>40.234783</td>\n",
       "      <td>54.076190</td>\n",
       "      <td>53.170588</td>\n",
       "    </tr>\n",
       "    <tr>\n",
       "      <th>25</th>\n",
       "      <td>39.945455</td>\n",
       "      <td>54.288889</td>\n",
       "      <td>55.722222</td>\n",
       "      <td>57.684211</td>\n",
       "      <td>56.722222</td>\n",
       "      <td>57.476471</td>\n",
       "      <td>55.485714</td>\n",
       "      <td>38.978261</td>\n",
       "      <td>56.163158</td>\n",
       "      <td>55.450000</td>\n",
       "    </tr>\n",
       "    <tr>\n",
       "      <th>30</th>\n",
       "      <td>38.781818</td>\n",
       "      <td>56.762500</td>\n",
       "      <td>58.300000</td>\n",
       "      <td>60.994444</td>\n",
       "      <td>59.560000</td>\n",
       "      <td>59.806667</td>\n",
       "      <td>58.200000</td>\n",
       "      <td>38.700000</td>\n",
       "      <td>59.827778</td>\n",
       "      <td>57.713333</td>\n",
       "    </tr>\n",
       "    <tr>\n",
       "      <th>35</th>\n",
       "      <td>37.822727</td>\n",
       "      <td>58.828571</td>\n",
       "      <td>60.725000</td>\n",
       "      <td>63.370588</td>\n",
       "      <td>62.673333</td>\n",
       "      <td>62.428571</td>\n",
       "      <td>60.360000</td>\n",
       "      <td>37.447619</td>\n",
       "      <td>62.443750</td>\n",
       "      <td>60.085714</td>\n",
       "    </tr>\n",
       "    <tr>\n",
       "      <th>40</th>\n",
       "      <td>36.961905</td>\n",
       "      <td>61.471429</td>\n",
       "      <td>63.160000</td>\n",
       "      <td>66.066667</td>\n",
       "      <td>65.600000</td>\n",
       "      <td>65.050000</td>\n",
       "      <td>63.044444</td>\n",
       "      <td>36.585000</td>\n",
       "      <td>65.358333</td>\n",
       "      <td>62.914286</td>\n",
       "    </tr>\n",
       "    <tr>\n",
       "      <th>45</th>\n",
       "      <td>36.233333</td>\n",
       "      <td>64.115385</td>\n",
       "      <td>65.755556</td>\n",
       "      <td>70.672727</td>\n",
       "      <td>69.276923</td>\n",
       "      <td>68.072727</td>\n",
       "      <td>66.271429</td>\n",
       "      <td>34.960000</td>\n",
       "      <td>68.436364</td>\n",
       "      <td>65.957143</td>\n",
       "    </tr>\n",
       "  </tbody>\n",
       "</table>\n",
       "</div>"
      ],
      "text/plain": [
       "Drug       Capomulin   Ceftamin  Infubinol   Ketapril   Naftisol    Placebo  \\\n",
       "Timepoint                                                                     \n",
       "0          45.000000  45.000000  45.000000  45.000000  45.000000  45.000000   \n",
       "5          44.268000  46.504762  47.076000  47.400000  46.791304  47.133333   \n",
       "10         43.080000  48.290000  49.409524  49.577273  48.700000  49.416667   \n",
       "15         42.066667  50.089474  51.290476  52.400000  50.933333  51.360000   \n",
       "20         40.717391  52.150000  53.195000  54.926316  53.640000  54.357895   \n",
       "25         39.945455  54.288889  55.722222  57.684211  56.722222  57.476471   \n",
       "30         38.781818  56.762500  58.300000  60.994444  59.560000  59.806667   \n",
       "35         37.822727  58.828571  60.725000  63.370588  62.673333  62.428571   \n",
       "40         36.961905  61.471429  63.160000  66.066667  65.600000  65.050000   \n",
       "45         36.233333  64.115385  65.755556  70.672727  69.276923  68.072727   \n",
       "\n",
       "Drug        Propriva   Ramicane   Stelasyn  Zoniferol  \n",
       "Timepoint                                              \n",
       "0          45.000000  45.000000  45.000000  45.000000  \n",
       "5          47.256000  43.948000  47.528000  46.850000  \n",
       "10         49.095652  42.533333  49.465217  48.686364  \n",
       "15         51.070588  41.495833  51.534783  50.780952  \n",
       "20         53.341176  40.234783  54.076190  53.170588  \n",
       "25         55.485714  38.978261  56.163158  55.450000  \n",
       "30         58.200000  38.700000  59.827778  57.713333  \n",
       "35         60.360000  37.447619  62.443750  60.085714  \n",
       "40         63.044444  36.585000  65.358333  62.914286  \n",
       "45         66.271429  34.960000  68.436364  65.957143  "
      ]
     },
     "execution_count": 102,
     "metadata": {},
     "output_type": "execute_result"
    },
    {
     "data": {
      "text/html": [
       "<div>\n",
       "<style scoped>\n",
       "    .dataframe tbody tr th:only-of-type {\n",
       "        vertical-align: middle;\n",
       "    }\n",
       "\n",
       "    .dataframe tbody tr th {\n",
       "        vertical-align: top;\n",
       "    }\n",
       "\n",
       "    .dataframe thead th {\n",
       "        text-align: right;\n",
       "    }\n",
       "</style>\n",
       "<table border=\"1\" class=\"dataframe\">\n",
       "  <thead>\n",
       "    <tr style=\"text-align: right;\">\n",
       "      <th>Drug</th>\n",
       "      <th>Capomulin</th>\n",
       "      <th>Ceftamin</th>\n",
       "      <th>Infubinol</th>\n",
       "      <th>Ketapril</th>\n",
       "      <th>Naftisol</th>\n",
       "      <th>Placebo</th>\n",
       "      <th>Propriva</th>\n",
       "      <th>Ramicane</th>\n",
       "      <th>Stelasyn</th>\n",
       "      <th>Zoniferol</th>\n",
       "    </tr>\n",
       "    <tr>\n",
       "      <th>Timepoint</th>\n",
       "      <th></th>\n",
       "      <th></th>\n",
       "      <th></th>\n",
       "      <th></th>\n",
       "      <th></th>\n",
       "      <th></th>\n",
       "      <th></th>\n",
       "      <th></th>\n",
       "      <th></th>\n",
       "      <th></th>\n",
       "    </tr>\n",
       "  </thead>\n",
       "  <tbody>\n",
       "    <tr>\n",
       "      <th>0</th>\n",
       "      <td>0.000000</td>\n",
       "      <td>0.000000</td>\n",
       "      <td>0.000000</td>\n",
       "      <td>0.000000</td>\n",
       "      <td>0.000000</td>\n",
       "      <td>0.000000</td>\n",
       "      <td>0.000000</td>\n",
       "      <td>0.000000</td>\n",
       "      <td>0.000000</td>\n",
       "      <td>0.000000</td>\n",
       "    </tr>\n",
       "    <tr>\n",
       "      <th>5</th>\n",
       "      <td>0.449137</td>\n",
       "      <td>0.164096</td>\n",
       "      <td>0.235533</td>\n",
       "      <td>0.266584</td>\n",
       "      <td>0.201272</td>\n",
       "      <td>0.216834</td>\n",
       "      <td>0.233172</td>\n",
       "      <td>0.485356</td>\n",
       "      <td>0.240175</td>\n",
       "      <td>0.189584</td>\n",
       "    </tr>\n",
       "    <tr>\n",
       "      <th>10</th>\n",
       "      <td>0.704036</td>\n",
       "      <td>0.234734</td>\n",
       "      <td>0.283339</td>\n",
       "      <td>0.356324</td>\n",
       "      <td>0.321307</td>\n",
       "      <td>0.400980</td>\n",
       "      <td>0.377399</td>\n",
       "      <td>0.719240</td>\n",
       "      <td>0.433280</td>\n",
       "      <td>0.263944</td>\n",
       "    </tr>\n",
       "    <tr>\n",
       "      <th>15</th>\n",
       "      <td>0.837107</td>\n",
       "      <td>0.334288</td>\n",
       "      <td>0.352805</td>\n",
       "      <td>0.577249</td>\n",
       "      <td>0.444669</td>\n",
       "      <td>0.612733</td>\n",
       "      <td>0.466272</td>\n",
       "      <td>0.770151</td>\n",
       "      <td>0.493940</td>\n",
       "      <td>0.367334</td>\n",
       "    </tr>\n",
       "    <tr>\n",
       "      <th>20</th>\n",
       "      <td>0.908820</td>\n",
       "      <td>0.356109</td>\n",
       "      <td>0.476416</td>\n",
       "      <td>0.725309</td>\n",
       "      <td>0.594510</td>\n",
       "      <td>0.839567</td>\n",
       "      <td>0.554597</td>\n",
       "      <td>0.787014</td>\n",
       "      <td>0.619751</td>\n",
       "      <td>0.533493</td>\n",
       "    </tr>\n",
       "    <tr>\n",
       "      <th>25</th>\n",
       "      <td>0.884443</td>\n",
       "      <td>0.440505</td>\n",
       "      <td>0.551502</td>\n",
       "      <td>0.756580</td>\n",
       "      <td>0.812788</td>\n",
       "      <td>1.032862</td>\n",
       "      <td>0.578541</td>\n",
       "      <td>0.747220</td>\n",
       "      <td>0.744344</td>\n",
       "      <td>0.605117</td>\n",
       "    </tr>\n",
       "    <tr>\n",
       "      <th>30</th>\n",
       "      <td>0.933820</td>\n",
       "      <td>0.492686</td>\n",
       "      <td>0.627788</td>\n",
       "      <td>0.935833</td>\n",
       "      <td>0.972175</td>\n",
       "      <td>1.221415</td>\n",
       "      <td>0.745671</td>\n",
       "      <td>0.863946</td>\n",
       "      <td>0.897083</td>\n",
       "      <td>0.802963</td>\n",
       "    </tr>\n",
       "    <tr>\n",
       "      <th>35</th>\n",
       "      <td>1.052804</td>\n",
       "      <td>0.690551</td>\n",
       "      <td>0.983587</td>\n",
       "      <td>1.128533</td>\n",
       "      <td>1.013972</td>\n",
       "      <td>1.287660</td>\n",
       "      <td>1.087627</td>\n",
       "      <td>0.967068</td>\n",
       "      <td>1.008091</td>\n",
       "      <td>0.877675</td>\n",
       "    </tr>\n",
       "    <tr>\n",
       "      <th>40</th>\n",
       "      <td>1.223684</td>\n",
       "      <td>0.708305</td>\n",
       "      <td>1.052215</td>\n",
       "      <td>1.156912</td>\n",
       "      <td>1.119566</td>\n",
       "      <td>1.372484</td>\n",
       "      <td>1.569953</td>\n",
       "      <td>1.128629</td>\n",
       "      <td>1.409248</td>\n",
       "      <td>0.998067</td>\n",
       "    </tr>\n",
       "    <tr>\n",
       "      <th>45</th>\n",
       "      <td>1.226053</td>\n",
       "      <td>0.900630</td>\n",
       "      <td>1.144444</td>\n",
       "      <td>1.453966</td>\n",
       "      <td>1.419288</td>\n",
       "      <td>1.356539</td>\n",
       "      <td>1.896327</td>\n",
       "      <td>1.224324</td>\n",
       "      <td>1.577701</td>\n",
       "      <td>1.001631</td>\n",
       "    </tr>\n",
       "  </tbody>\n",
       "</table>\n",
       "</div>"
      ],
      "text/plain": [
       "Drug       Capomulin  Ceftamin  Infubinol  Ketapril  Naftisol   Placebo  \\\n",
       "Timepoint                                                                 \n",
       "0           0.000000  0.000000   0.000000  0.000000  0.000000  0.000000   \n",
       "5           0.449137  0.164096   0.235533  0.266584  0.201272  0.216834   \n",
       "10          0.704036  0.234734   0.283339  0.356324  0.321307  0.400980   \n",
       "15          0.837107  0.334288   0.352805  0.577249  0.444669  0.612733   \n",
       "20          0.908820  0.356109   0.476416  0.725309  0.594510  0.839567   \n",
       "25          0.884443  0.440505   0.551502  0.756580  0.812788  1.032862   \n",
       "30          0.933820  0.492686   0.627788  0.935833  0.972175  1.221415   \n",
       "35          1.052804  0.690551   0.983587  1.128533  1.013972  1.287660   \n",
       "40          1.223684  0.708305   1.052215  1.156912  1.119566  1.372484   \n",
       "45          1.226053  0.900630   1.144444  1.453966  1.419288  1.356539   \n",
       "\n",
       "Drug       Propriva  Ramicane  Stelasyn  Zoniferol  \n",
       "Timepoint                                           \n",
       "0          0.000000  0.000000  0.000000   0.000000  \n",
       "5          0.233172  0.485356  0.240175   0.189584  \n",
       "10         0.377399  0.719240  0.433280   0.263944  \n",
       "15         0.466272  0.770151  0.493940   0.367334  \n",
       "20         0.554597  0.787014  0.619751   0.533493  \n",
       "25         0.578541  0.747220  0.744344   0.605117  \n",
       "30         0.745671  0.863946  0.897083   0.802963  \n",
       "35         1.087627  0.967068  1.008091   0.877675  \n",
       "40         1.569953  1.128629  1.409248   0.998067  \n",
       "45         1.896327  1.224324  1.577701   1.001631  "
      ]
     },
     "execution_count": 102,
     "metadata": {},
     "output_type": "execute_result"
    }
   ],
   "source": [
    "#Pivot the data frame so that the data would be available for each drug \n",
    "tumorResponse_DF = tumorResponse_DF.reset_index()\n",
    "tumorResponse_PVT_DF = tumorResponse_DF.pivot(index='Timepoint', columns='Drug', values='Tumor Volume (mm3)')\n",
    "tumorResponse_PVT_DF.head(10)\n",
    "\n",
    "tumorResponseError_DF = tumorResponseError_DF.reset_index()\n",
    "tumorResponseError_PVT_DF = tumorResponseError_DF.pivot(index='Timepoint', columns='Drug', values='Tumor Volume (mm3)')\n",
    "tumorResponseError_PVT_DF.head(10)\n"
   ]
  },
  {
   "cell_type": "code",
   "execution_count": 103,
   "metadata": {},
   "outputs": [
    {
     "data": {
      "text/plain": [
       "<Container object of 3 artists>"
      ]
     },
     "execution_count": 103,
     "metadata": {},
     "output_type": "execute_result"
    },
    {
     "data": {
      "text/plain": [
       "<Container object of 3 artists>"
      ]
     },
     "execution_count": 103,
     "metadata": {},
     "output_type": "execute_result"
    },
    {
     "data": {
      "text/plain": [
       "<Container object of 3 artists>"
      ]
     },
     "execution_count": 103,
     "metadata": {},
     "output_type": "execute_result"
    },
    {
     "data": {
      "text/plain": [
       "<Container object of 3 artists>"
      ]
     },
     "execution_count": 103,
     "metadata": {},
     "output_type": "execute_result"
    },
    {
     "data": {
      "text/plain": [
       "<matplotlib.legend.Legend at 0x11ab45c18>"
      ]
     },
     "execution_count": 103,
     "metadata": {},
     "output_type": "execute_result"
    },
    {
     "data": {
      "text/plain": [
       "<matplotlib.collections.PathCollection at 0x119aa76d8>"
      ]
     },
     "execution_count": 103,
     "metadata": {},
     "output_type": "execute_result"
    },
    {
     "data": {
      "text/plain": [
       "<matplotlib.collections.PathCollection at 0x119e5b908>"
      ]
     },
     "execution_count": 103,
     "metadata": {},
     "output_type": "execute_result"
    },
    {
     "data": {
      "text/plain": [
       "<matplotlib.collections.PathCollection at 0x119fccf60>"
      ]
     },
     "execution_count": 103,
     "metadata": {},
     "output_type": "execute_result"
    },
    {
     "data": {
      "text/plain": [
       "<matplotlib.collections.PathCollection at 0x119d44630>"
      ]
     },
     "execution_count": 103,
     "metadata": {},
     "output_type": "execute_result"
    },
    {
     "data": {
      "text/plain": [
       "[0, 50, 20, 80]"
      ]
     },
     "execution_count": 103,
     "metadata": {},
     "output_type": "execute_result"
    },
    {
     "data": {
      "text/plain": [
       "Text(0.5,0,'Time (Days)')"
      ]
     },
     "execution_count": 103,
     "metadata": {},
     "output_type": "execute_result"
    },
    {
     "data": {
      "text/plain": [
       "Text(0,0.5,'Tumor Volume (mm3)')"
      ]
     },
     "execution_count": 103,
     "metadata": {},
     "output_type": "execute_result"
    },
    {
     "data": {
      "text/plain": [
       "Text(0.5,1,'Tumor response to Treatment')"
      ]
     },
     "execution_count": 103,
     "metadata": {},
     "output_type": "execute_result"
    },
    {
     "data": {
      "image/png": "[encoded data removed]",
      "text/plain": [
       "<matplotlib.figure.Figure at 0x11af6c908>"
      ]
     },
     "metadata": {},
     "output_type": "display_data"
    }
   ],
   "source": [
    "#create sub datasets for the 4 intereseted drugs \n",
    "Capomulin_tumor_DF = tumorResponse_DF.loc[(tumorResponse_DF['Drug']=='Capomulin')\n",
    "                                          ,['Timepoint','Tumor Volume (mm3)']]\n",
    "Infubinol_tumor_DF = tumorResponse_DF.loc[(tumorResponse_DF['Drug']=='Infubinol')\n",
    "                                          ,['Timepoint','Tumor Volume (mm3)']]\n",
    "Ketapril_tumor_DF = tumorResponse_DF.loc[(tumorResponse_DF['Drug']=='Ketapril')\n",
    "                                         ,['Timepoint','Tumor Volume (mm3)']]\n",
    "Placebo_tumor_DF =  tumorResponse_DF.loc[(tumorResponse_DF['Drug']=='Placebo')\n",
    "                                         ,['Timepoint','Tumor Volume (mm3)']]\n",
    "\n",
    "Capomulin_tumorError_DF = tumorResponseError_DF.loc[(tumorResponseError_DF['Drug']=='Capomulin')\n",
    "                                              ,['Timepoint','Tumor Volume (mm3)']]\n",
    "Infubinol_tumorError_DF = tumorResponseError_DF.loc[(tumorResponseError_DF['Drug']=='Infubinol')\n",
    "                                              ,['Timepoint','Tumor Volume (mm3)']]\n",
    "Ketapril_tumorError_DF = tumorResponseError_DF.loc[(tumorResponseError_DF['Drug']=='Ketapril')\n",
    "                                             ,['Timepoint','Tumor Volume (mm3)']]\n",
    "Placebo_tumorError_DF = tumorResponseError_DF.loc[(tumorResponseError_DF['Drug']=='Placebo')\n",
    "                                            ,['Timepoint','Tumor Volume (mm3)']]\n",
    "\n",
    "#Plot the error bar and then the scatter plot for Tumor volume across time period\n",
    "plt.errorbar(Capomulin_tumor_DF['Timepoint'],Capomulin_tumor_DF['Tumor Volume (mm3)']\n",
    "             , yerr=Capomulin_tumorError_DF['Tumor Volume (mm3)']\n",
    "             ,fmt='o',ecolor='r',color='r',ls='dashed',lw=0.5,label='Capomulin',capsize=5)\n",
    "\n",
    "plt.errorbar(Infubinol_tumor_DF['Timepoint'],Infubinol_tumor_DF['Tumor Volume (mm3)']\n",
    "             , yerr=Infubinol_tumorError_DF['Tumor Volume (mm3)']\n",
    "             ,fmt='^',ecolor='r',color='b',ls='dashed',lw=0.5,label='Infubinol',capsize=5)\n",
    "\n",
    "plt.errorbar(Ketapril_tumor_DF['Timepoint'],Ketapril_tumor_DF['Tumor Volume (mm3)']\n",
    "             , yerr=Ketapril_tumorError_DF['Tumor Volume (mm3)']\n",
    "             ,fmt='s',ecolor='r',color='g',ls='dashed',lw=0.5,label='Ketapril',capsize=5)\n",
    "\n",
    "plt.errorbar(Placebo_tumor_DF['Timepoint'],Placebo_tumor_DF['Tumor Volume (mm3)']\n",
    "             , yerr=Placebo_tumorError_DF['Tumor Volume (mm3)']\n",
    "             ,fmt='D',ecolor='r',color='black',ls='dashed',lw=0.5,label='Placebo',capsize=5)\n",
    "\n",
    "plt.legend(('Capomulin', 'Infubinol','Ketapril','Placebo'))\n",
    "\n",
    "plt.scatter(Capomulin_tumor_DF['Timepoint'],Capomulin_tumor_DF['Tumor Volume (mm3)']\n",
    "            , marker='o',color=\"red\", label=\"Capomulin\")\n",
    "plt.scatter(Infubinol_tumor_DF['Timepoint'],Infubinol_tumor_DF['Tumor Volume (mm3)']\n",
    "            , marker='^',color=\"blue\", label=\"Infubinol\")\n",
    "plt.scatter(Ketapril_tumor_DF['Timepoint'] ,Ketapril_tumor_DF['Tumor Volume (mm3)'] \n",
    "            , marker='s',color=\"green\", label=\"Ketapril\")\n",
    "plt.scatter(Placebo_tumor_DF['Timepoint']  ,Placebo_tumor_DF['Tumor Volume (mm3)']  \n",
    "            , marker='D',color=\"black\", label=\"Placebo\")\n",
    "\n",
    "plt.axis([0,50, 20, 80])\n",
    "plt.grid(linestyle='-', linewidth=0.5)\n",
    "plt.xlabel(\"Time (Days)\")\n",
    "plt.ylabel(\"Tumor Volume (mm3)\")\n",
    "plt.title(\"Tumor response to Treatment\")\n",
    "\n"
   ]
  },
  {
   "cell_type": "markdown",
   "metadata": {},
   "source": [
    "# Metastatic Response to Treatment"
   ]
  },
  {
   "cell_type": "code",
   "execution_count": 104,
   "metadata": {},
   "outputs": [
    {
     "data": {
      "text/html": [
       "<div>\n",
       "<style scoped>\n",
       "    .dataframe tbody tr th:only-of-type {\n",
       "        vertical-align: middle;\n",
       "    }\n",
       "\n",
       "    .dataframe tbody tr th {\n",
       "        vertical-align: top;\n",
       "    }\n",
       "\n",
       "    .dataframe thead th {\n",
       "        text-align: right;\n",
       "    }\n",
       "</style>\n",
       "<table border=\"1\" class=\"dataframe\">\n",
       "  <thead>\n",
       "    <tr style=\"text-align: right;\">\n",
       "      <th></th>\n",
       "      <th></th>\n",
       "      <th>Metastatic Sites</th>\n",
       "    </tr>\n",
       "    <tr>\n",
       "      <th>Drug</th>\n",
       "      <th>Timepoint</th>\n",
       "      <th></th>\n",
       "    </tr>\n",
       "  </thead>\n",
       "  <tbody>\n",
       "    <tr>\n",
       "      <th rowspan=\"5\" valign=\"top\">Capomulin</th>\n",
       "      <th>0</th>\n",
       "      <td>0.000000</td>\n",
       "    </tr>\n",
       "    <tr>\n",
       "      <th>5</th>\n",
       "      <td>0.160000</td>\n",
       "    </tr>\n",
       "    <tr>\n",
       "      <th>10</th>\n",
       "      <td>0.320000</td>\n",
       "    </tr>\n",
       "    <tr>\n",
       "      <th>15</th>\n",
       "      <td>0.375000</td>\n",
       "    </tr>\n",
       "    <tr>\n",
       "      <th>20</th>\n",
       "      <td>0.652174</td>\n",
       "    </tr>\n",
       "  </tbody>\n",
       "</table>\n",
       "</div>"
      ],
      "text/plain": [
       "                     Metastatic Sites\n",
       "Drug      Timepoint                  \n",
       "Capomulin 0                  0.000000\n",
       "          5                  0.160000\n",
       "          10                 0.320000\n",
       "          15                 0.375000\n",
       "          20                 0.652174"
      ]
     },
     "execution_count": 104,
     "metadata": {},
     "output_type": "execute_result"
    }
   ],
   "source": [
    "#create data group to find the avg metastatic sites per Drug across time period\n",
    "metastaticResponse_Group = clinicaltrial_mouseDrug_DF.groupby(['Drug','Timepoint'])\n",
    "\n",
    "metastaticResponse = metastaticResponse_Group['Metastatic Sites'].mean()\n",
    "metastaticResponse_DF = pd.DataFrame(metastaticResponse)\n",
    "\n",
    "metastaticResponse_DF.head(5)"
   ]
  },
  {
   "cell_type": "code",
   "execution_count": 105,
   "metadata": {},
   "outputs": [
    {
     "data": {
      "text/html": [
       "<div>\n",
       "<style scoped>\n",
       "    .dataframe tbody tr th:only-of-type {\n",
       "        vertical-align: middle;\n",
       "    }\n",
       "\n",
       "    .dataframe tbody tr th {\n",
       "        vertical-align: top;\n",
       "    }\n",
       "\n",
       "    .dataframe thead th {\n",
       "        text-align: right;\n",
       "    }\n",
       "</style>\n",
       "<table border=\"1\" class=\"dataframe\">\n",
       "  <thead>\n",
       "    <tr style=\"text-align: right;\">\n",
       "      <th></th>\n",
       "      <th></th>\n",
       "      <th>Metastatic Sites</th>\n",
       "    </tr>\n",
       "    <tr>\n",
       "      <th>Drug</th>\n",
       "      <th>Timepoint</th>\n",
       "      <th></th>\n",
       "    </tr>\n",
       "  </thead>\n",
       "  <tbody>\n",
       "    <tr>\n",
       "      <th rowspan=\"5\" valign=\"top\">Capomulin</th>\n",
       "      <th>0</th>\n",
       "      <td>0.000000</td>\n",
       "    </tr>\n",
       "    <tr>\n",
       "      <th>5</th>\n",
       "      <td>0.074833</td>\n",
       "    </tr>\n",
       "    <tr>\n",
       "      <th>10</th>\n",
       "      <td>0.125433</td>\n",
       "    </tr>\n",
       "    <tr>\n",
       "      <th>15</th>\n",
       "      <td>0.132048</td>\n",
       "    </tr>\n",
       "    <tr>\n",
       "      <th>20</th>\n",
       "      <td>0.161621</td>\n",
       "    </tr>\n",
       "  </tbody>\n",
       "</table>\n",
       "</div>"
      ],
      "text/plain": [
       "                     Metastatic Sites\n",
       "Drug      Timepoint                  \n",
       "Capomulin 0                  0.000000\n",
       "          5                  0.074833\n",
       "          10                 0.125433\n",
       "          15                 0.132048\n",
       "          20                 0.161621"
      ]
     },
     "execution_count": 105,
     "metadata": {},
     "output_type": "execute_result"
    }
   ],
   "source": [
    "#error\n",
    "metastaticResponseError = metastaticResponse_Group['Metastatic Sites'].sem()\n",
    "metastaticResponseError_DF = pd.DataFrame(metastaticResponseError)\n",
    "metastaticResponseError_DF.head(5)\n",
    "\n"
   ]
  },
  {
   "cell_type": "code",
   "execution_count": 106,
   "metadata": {},
   "outputs": [
    {
     "data": {
      "text/html": [
       "<div>\n",
       "<style scoped>\n",
       "    .dataframe tbody tr th:only-of-type {\n",
       "        vertical-align: middle;\n",
       "    }\n",
       "\n",
       "    .dataframe tbody tr th {\n",
       "        vertical-align: top;\n",
       "    }\n",
       "\n",
       "    .dataframe thead th {\n",
       "        text-align: right;\n",
       "    }\n",
       "</style>\n",
       "<table border=\"1\" class=\"dataframe\">\n",
       "  <thead>\n",
       "    <tr style=\"text-align: right;\">\n",
       "      <th>Drug</th>\n",
       "      <th>Capomulin</th>\n",
       "      <th>Ceftamin</th>\n",
       "      <th>Infubinol</th>\n",
       "      <th>Ketapril</th>\n",
       "      <th>Naftisol</th>\n",
       "      <th>Placebo</th>\n",
       "      <th>Propriva</th>\n",
       "      <th>Ramicane</th>\n",
       "      <th>Stelasyn</th>\n",
       "      <th>Zoniferol</th>\n",
       "    </tr>\n",
       "    <tr>\n",
       "      <th>Timepoint</th>\n",
       "      <th></th>\n",
       "      <th></th>\n",
       "      <th></th>\n",
       "      <th></th>\n",
       "      <th></th>\n",
       "      <th></th>\n",
       "      <th></th>\n",
       "      <th></th>\n",
       "      <th></th>\n",
       "      <th></th>\n",
       "    </tr>\n",
       "  </thead>\n",
       "  <tbody>\n",
       "    <tr>\n",
       "      <th>0</th>\n",
       "      <td>0.000000</td>\n",
       "      <td>0.000000</td>\n",
       "      <td>0.000000</td>\n",
       "      <td>0.000000</td>\n",
       "      <td>0.000000</td>\n",
       "      <td>0.000000</td>\n",
       "      <td>0.000000</td>\n",
       "      <td>0.000000</td>\n",
       "      <td>0.000000</td>\n",
       "      <td>0.000000</td>\n",
       "    </tr>\n",
       "    <tr>\n",
       "      <th>5</th>\n",
       "      <td>0.160000</td>\n",
       "      <td>0.380952</td>\n",
       "      <td>0.280000</td>\n",
       "      <td>0.304348</td>\n",
       "      <td>0.260870</td>\n",
       "      <td>0.375000</td>\n",
       "      <td>0.320000</td>\n",
       "      <td>0.120000</td>\n",
       "      <td>0.240000</td>\n",
       "      <td>0.166667</td>\n",
       "    </tr>\n",
       "    <tr>\n",
       "      <th>10</th>\n",
       "      <td>0.320000</td>\n",
       "      <td>0.600000</td>\n",
       "      <td>0.666667</td>\n",
       "      <td>0.590909</td>\n",
       "      <td>0.523810</td>\n",
       "      <td>0.833333</td>\n",
       "      <td>0.565217</td>\n",
       "      <td>0.250000</td>\n",
       "      <td>0.478261</td>\n",
       "      <td>0.500000</td>\n",
       "    </tr>\n",
       "    <tr>\n",
       "      <th>15</th>\n",
       "      <td>0.375000</td>\n",
       "      <td>0.789474</td>\n",
       "      <td>0.904762</td>\n",
       "      <td>0.842105</td>\n",
       "      <td>0.857143</td>\n",
       "      <td>1.250000</td>\n",
       "      <td>0.764706</td>\n",
       "      <td>0.333333</td>\n",
       "      <td>0.782609</td>\n",
       "      <td>0.809524</td>\n",
       "    </tr>\n",
       "    <tr>\n",
       "      <th>20</th>\n",
       "      <td>0.652174</td>\n",
       "      <td>1.111111</td>\n",
       "      <td>1.050000</td>\n",
       "      <td>1.210526</td>\n",
       "      <td>1.150000</td>\n",
       "      <td>1.526316</td>\n",
       "      <td>1.000000</td>\n",
       "      <td>0.347826</td>\n",
       "      <td>0.952381</td>\n",
       "      <td>1.294118</td>\n",
       "    </tr>\n",
       "  </tbody>\n",
       "</table>\n",
       "</div>"
      ],
      "text/plain": [
       "Drug       Capomulin  Ceftamin  Infubinol  Ketapril  Naftisol   Placebo  \\\n",
       "Timepoint                                                                 \n",
       "0           0.000000  0.000000   0.000000  0.000000  0.000000  0.000000   \n",
       "5           0.160000  0.380952   0.280000  0.304348  0.260870  0.375000   \n",
       "10          0.320000  0.600000   0.666667  0.590909  0.523810  0.833333   \n",
       "15          0.375000  0.789474   0.904762  0.842105  0.857143  1.250000   \n",
       "20          0.652174  1.111111   1.050000  1.210526  1.150000  1.526316   \n",
       "\n",
       "Drug       Propriva  Ramicane  Stelasyn  Zoniferol  \n",
       "Timepoint                                           \n",
       "0          0.000000  0.000000  0.000000   0.000000  \n",
       "5          0.320000  0.120000  0.240000   0.166667  \n",
       "10         0.565217  0.250000  0.478261   0.500000  \n",
       "15         0.764706  0.333333  0.782609   0.809524  \n",
       "20         1.000000  0.347826  0.952381   1.294118  "
      ]
     },
     "execution_count": 106,
     "metadata": {},
     "output_type": "execute_result"
    },
    {
     "data": {
      "text/html": [
       "<div>\n",
       "<style scoped>\n",
       "    .dataframe tbody tr th:only-of-type {\n",
       "        vertical-align: middle;\n",
       "    }\n",
       "\n",
       "    .dataframe tbody tr th {\n",
       "        vertical-align: top;\n",
       "    }\n",
       "\n",
       "    .dataframe thead th {\n",
       "        text-align: right;\n",
       "    }\n",
       "</style>\n",
       "<table border=\"1\" class=\"dataframe\">\n",
       "  <thead>\n",
       "    <tr style=\"text-align: right;\">\n",
       "      <th>Drug</th>\n",
       "      <th>Capomulin</th>\n",
       "      <th>Ceftamin</th>\n",
       "      <th>Infubinol</th>\n",
       "      <th>Ketapril</th>\n",
       "      <th>Naftisol</th>\n",
       "      <th>Placebo</th>\n",
       "      <th>Propriva</th>\n",
       "      <th>Ramicane</th>\n",
       "      <th>Stelasyn</th>\n",
       "      <th>Zoniferol</th>\n",
       "    </tr>\n",
       "    <tr>\n",
       "      <th>Timepoint</th>\n",
       "      <th></th>\n",
       "      <th></th>\n",
       "      <th></th>\n",
       "      <th></th>\n",
       "      <th></th>\n",
       "      <th></th>\n",
       "      <th></th>\n",
       "      <th></th>\n",
       "      <th></th>\n",
       "      <th></th>\n",
       "    </tr>\n",
       "  </thead>\n",
       "  <tbody>\n",
       "    <tr>\n",
       "      <th>0</th>\n",
       "      <td>0.000000</td>\n",
       "      <td>0.000000</td>\n",
       "      <td>0.000000</td>\n",
       "      <td>0.000000</td>\n",
       "      <td>0.000000</td>\n",
       "      <td>0.000000</td>\n",
       "      <td>0.000000</td>\n",
       "      <td>0.000000</td>\n",
       "      <td>0.000000</td>\n",
       "      <td>0.000000</td>\n",
       "    </tr>\n",
       "    <tr>\n",
       "      <th>5</th>\n",
       "      <td>0.074833</td>\n",
       "      <td>0.108588</td>\n",
       "      <td>0.091652</td>\n",
       "      <td>0.098100</td>\n",
       "      <td>0.093618</td>\n",
       "      <td>0.100947</td>\n",
       "      <td>0.095219</td>\n",
       "      <td>0.066332</td>\n",
       "      <td>0.087178</td>\n",
       "      <td>0.077709</td>\n",
       "    </tr>\n",
       "    <tr>\n",
       "      <th>10</th>\n",
       "      <td>0.125433</td>\n",
       "      <td>0.152177</td>\n",
       "      <td>0.159364</td>\n",
       "      <td>0.142018</td>\n",
       "      <td>0.163577</td>\n",
       "      <td>0.115261</td>\n",
       "      <td>0.105690</td>\n",
       "      <td>0.090289</td>\n",
       "      <td>0.123672</td>\n",
       "      <td>0.109109</td>\n",
       "    </tr>\n",
       "    <tr>\n",
       "      <th>15</th>\n",
       "      <td>0.132048</td>\n",
       "      <td>0.180625</td>\n",
       "      <td>0.194015</td>\n",
       "      <td>0.191381</td>\n",
       "      <td>0.158651</td>\n",
       "      <td>0.190221</td>\n",
       "      <td>0.136377</td>\n",
       "      <td>0.115261</td>\n",
       "      <td>0.153439</td>\n",
       "      <td>0.111677</td>\n",
       "    </tr>\n",
       "    <tr>\n",
       "      <th>20</th>\n",
       "      <td>0.161621</td>\n",
       "      <td>0.241034</td>\n",
       "      <td>0.234801</td>\n",
       "      <td>0.236680</td>\n",
       "      <td>0.181731</td>\n",
       "      <td>0.234064</td>\n",
       "      <td>0.171499</td>\n",
       "      <td>0.119430</td>\n",
       "      <td>0.200905</td>\n",
       "      <td>0.166378</td>\n",
       "    </tr>\n",
       "  </tbody>\n",
       "</table>\n",
       "</div>"
      ],
      "text/plain": [
       "Drug       Capomulin  Ceftamin  Infubinol  Ketapril  Naftisol   Placebo  \\\n",
       "Timepoint                                                                 \n",
       "0           0.000000  0.000000   0.000000  0.000000  0.000000  0.000000   \n",
       "5           0.074833  0.108588   0.091652  0.098100  0.093618  0.100947   \n",
       "10          0.125433  0.152177   0.159364  0.142018  0.163577  0.115261   \n",
       "15          0.132048  0.180625   0.194015  0.191381  0.158651  0.190221   \n",
       "20          0.161621  0.241034   0.234801  0.236680  0.181731  0.234064   \n",
       "\n",
       "Drug       Propriva  Ramicane  Stelasyn  Zoniferol  \n",
       "Timepoint                                           \n",
       "0          0.000000  0.000000  0.000000   0.000000  \n",
       "5          0.095219  0.066332  0.087178   0.077709  \n",
       "10         0.105690  0.090289  0.123672   0.109109  \n",
       "15         0.136377  0.115261  0.153439   0.111677  \n",
       "20         0.171499  0.119430  0.200905   0.166378  "
      ]
     },
     "execution_count": 106,
     "metadata": {},
     "output_type": "execute_result"
    }
   ],
   "source": [
    "#Pivot the data frame so that the data would be available for each drug \n",
    "metastaticResponse_DF = metastaticResponse_DF.reset_index()\n",
    "metastaticResponse_PVT_DF = metastaticResponse_DF.pivot(index='Timepoint', columns='Drug', values='Metastatic Sites')\n",
    "metastaticResponse_PVT_DF.head(5)\n",
    "\n",
    "metastaticResponseError_DF = metastaticResponseError_DF.reset_index()\n",
    "metastaticResponseError_PVT_DF = metastaticResponseError_DF.pivot(index='Timepoint', columns='Drug', values='Metastatic Sites')\n",
    "metastaticResponseError_PVT_DF.head(5)\n",
    "\n"
   ]
  },
  {
   "cell_type": "code",
   "execution_count": 107,
   "metadata": {},
   "outputs": [
    {
     "data": {
      "text/plain": [
       "<Container object of 3 artists>"
      ]
     },
     "execution_count": 107,
     "metadata": {},
     "output_type": "execute_result"
    },
    {
     "data": {
      "text/plain": [
       "<Container object of 3 artists>"
      ]
     },
     "execution_count": 107,
     "metadata": {},
     "output_type": "execute_result"
    },
    {
     "data": {
      "text/plain": [
       "<Container object of 3 artists>"
      ]
     },
     "execution_count": 107,
     "metadata": {},
     "output_type": "execute_result"
    },
    {
     "data": {
      "text/plain": [
       "<Container object of 3 artists>"
      ]
     },
     "execution_count": 107,
     "metadata": {},
     "output_type": "execute_result"
    },
    {
     "data": {
      "text/plain": [
       "<matplotlib.legend.Legend at 0x11aa32710>"
      ]
     },
     "execution_count": 107,
     "metadata": {},
     "output_type": "execute_result"
    },
    {
     "data": {
      "text/plain": [
       "<matplotlib.collections.PathCollection at 0x11a6fbda0>"
      ]
     },
     "execution_count": 107,
     "metadata": {},
     "output_type": "execute_result"
    },
    {
     "data": {
      "text/plain": [
       "<matplotlib.collections.PathCollection at 0x11a93ab70>"
      ]
     },
     "execution_count": 107,
     "metadata": {},
     "output_type": "execute_result"
    },
    {
     "data": {
      "text/plain": [
       "<matplotlib.collections.PathCollection at 0x11a932470>"
      ]
     },
     "execution_count": 107,
     "metadata": {},
     "output_type": "execute_result"
    },
    {
     "data": {
      "text/plain": [
       "<matplotlib.collections.PathCollection at 0x11a932be0>"
      ]
     },
     "execution_count": 107,
     "metadata": {},
     "output_type": "execute_result"
    },
    {
     "data": {
      "text/plain": [
       "[0, 50, 0.0, 4.0]"
      ]
     },
     "execution_count": 107,
     "metadata": {},
     "output_type": "execute_result"
    },
    {
     "data": {
      "text/plain": [
       "Text(0.5,0,'Treatment Duration (Days)')"
      ]
     },
     "execution_count": 107,
     "metadata": {},
     "output_type": "execute_result"
    },
    {
     "data": {
      "text/plain": [
       "Text(0,0.5,'Met. Sites')"
      ]
     },
     "execution_count": 107,
     "metadata": {},
     "output_type": "execute_result"
    },
    {
     "data": {
      "text/plain": [
       "Text(0.5,1,'Metastatic Spread during Treatment')"
      ]
     },
     "execution_count": 107,
     "metadata": {},
     "output_type": "execute_result"
    },
    {
     "data": {
      "image/png": "[encoded data removed]",
      "text/plain": [
       "<matplotlib.figure.Figure at 0x11a9cc3c8>"
      ]
     },
     "metadata": {},
     "output_type": "display_data"
    }
   ],
   "source": [
    "#create sub datasets for the 4 intereseted drugs \n",
    "Capomulin_metastatic_DF = metastaticResponse_DF.loc[(metastaticResponse_DF['Drug']=='Capomulin')\n",
    "                                          ,['Timepoint','Metastatic Sites']]\n",
    "Infubinol_metastatic_DF = metastaticResponse_DF.loc[(metastaticResponse_DF['Drug']=='Infubinol')\n",
    "                                          ,['Timepoint','Metastatic Sites']]\n",
    "Ketapril_metastatic_DF = metastaticResponse_DF.loc[(metastaticResponse_DF['Drug']=='Ketapril')\n",
    "                                         ,['Timepoint','Metastatic Sites']]\n",
    "Placebo_metastatic_DF =  metastaticResponse_DF.loc[(metastaticResponse_DF['Drug']=='Placebo')\n",
    "                                         ,['Timepoint','Metastatic Sites']]\n",
    "\n",
    "Capomulin_metastaticError_DF = metastaticResponseError_DF.loc[(metastaticResponseError_DF['Drug']=='Capomulin')\n",
    "                                              ,['Timepoint','Metastatic Sites']]\n",
    "Infubinol_metastaticError_DF = metastaticResponseError_DF.loc[(metastaticResponseError_DF['Drug']=='Infubinol')\n",
    "                                              ,['Timepoint','Metastatic Sites']]\n",
    "Ketapril_metastaticError_DF = metastaticResponseError_DF.loc[(metastaticResponseError_DF['Drug']=='Ketapril')\n",
    "                                             ,['Timepoint','Metastatic Sites']]\n",
    "Placebo_metastaticError_DF = metastaticResponseError_DF.loc[(metastaticResponseError_DF['Drug']=='Placebo')\n",
    "                                            ,['Timepoint','Metastatic Sites']]\n",
    "\n",
    "#Plot the error bar and then the scatter plot for Tumor volume across time period\n",
    "plt.errorbar(Capomulin_metastatic_DF['Timepoint'],Capomulin_metastatic_DF['Metastatic Sites']\n",
    "             , yerr=Capomulin_metastaticError_DF['Metastatic Sites']\n",
    "             ,fmt='o',ecolor='r',color='r',ls='dashed',lw=0.5,label='Capomulin',capsize=4)\n",
    "\n",
    "plt.errorbar(Infubinol_metastatic_DF['Timepoint'],Infubinol_metastatic_DF['Metastatic Sites']\n",
    "             , yerr=Infubinol_metastaticError_DF['Metastatic Sites']\n",
    "             ,fmt='^',ecolor='r',color='b',ls='dashed',lw=0.5,label='Infubinol',capsize=4)\n",
    "\n",
    "plt.errorbar(Ketapril_metastatic_DF['Timepoint'],Ketapril_metastatic_DF['Metastatic Sites']\n",
    "             , yerr=Ketapril_metastaticError_DF['Metastatic Sites']\n",
    "             ,fmt='s',ecolor='r',color='g',ls='dashed',lw=0.5,label='Ketapril',capsize=4)\n",
    "\n",
    "plt.errorbar(Placebo_metastatic_DF['Timepoint'],Placebo_metastatic_DF['Metastatic Sites']\n",
    "             , yerr=Placebo_metastaticError_DF['Metastatic Sites']\n",
    "             ,fmt='D',ecolor='r',color='black',ls='dashed',lw=0.5,label='Placebo',capsize=4)\n",
    "\n",
    "plt.legend(('Capomulin', 'Infubinol','Ketapril','Placebo'))\n",
    "\n",
    "plt.scatter(Capomulin_metastatic_DF['Timepoint'],Capomulin_metastatic_DF['Metastatic Sites']\n",
    "            , marker='o',color=\"red\", label=\"Capomulin\")\n",
    "plt.scatter(Infubinol_metastatic_DF['Timepoint'],Infubinol_metastatic_DF['Metastatic Sites']\n",
    "            , marker='^',color=\"blue\", label=\"Infubinol\")\n",
    "plt.scatter(Ketapril_metastatic_DF['Timepoint'] ,Ketapril_metastatic_DF['Metastatic Sites'] \n",
    "            , marker='s',color=\"green\", label=\"Ketapril\")\n",
    "plt.scatter(Placebo_metastatic_DF['Timepoint']  ,Placebo_metastatic_DF['Metastatic Sites']  \n",
    "            , marker='D',color=\"black\", label=\"Placebo\")\n",
    "\n",
    "plt.axis([0,50, 0.0, 4.0])\n",
    "plt.grid(linestyle='-', linewidth=0.5)\n",
    "plt.xlabel(\"Treatment Duration (Days)\")\n",
    "plt.ylabel(\"Met. Sites\")\n",
    "plt.title(\"Metastatic Spread during Treatment\")\n",
    "\n",
    "\n"
   ]
  },
  {
   "cell_type": "markdown",
   "metadata": {},
   "source": [
    "# Survival Rate"
   ]
  },
  {
   "cell_type": "code",
   "execution_count": 108,
   "metadata": {},
   "outputs": [
    {
     "data": {
      "text/html": [
       "<div>\n",
       "<style scoped>\n",
       "    .dataframe tbody tr th:only-of-type {\n",
       "        vertical-align: middle;\n",
       "    }\n",
       "\n",
       "    .dataframe tbody tr th {\n",
       "        vertical-align: top;\n",
       "    }\n",
       "\n",
       "    .dataframe thead th {\n",
       "        text-align: right;\n",
       "    }\n",
       "</style>\n",
       "<table border=\"1\" class=\"dataframe\">\n",
       "  <thead>\n",
       "    <tr style=\"text-align: right;\">\n",
       "      <th></th>\n",
       "      <th></th>\n",
       "      <th>Mouse Count</th>\n",
       "    </tr>\n",
       "    <tr>\n",
       "      <th>Drug</th>\n",
       "      <th>Timepoint</th>\n",
       "      <th></th>\n",
       "    </tr>\n",
       "  </thead>\n",
       "  <tbody>\n",
       "    <tr>\n",
       "      <th rowspan=\"5\" valign=\"top\">Capomulin</th>\n",
       "      <th>0</th>\n",
       "      <td>25</td>\n",
       "    </tr>\n",
       "    <tr>\n",
       "      <th>5</th>\n",
       "      <td>25</td>\n",
       "    </tr>\n",
       "    <tr>\n",
       "      <th>10</th>\n",
       "      <td>25</td>\n",
       "    </tr>\n",
       "    <tr>\n",
       "      <th>15</th>\n",
       "      <td>24</td>\n",
       "    </tr>\n",
       "    <tr>\n",
       "      <th>20</th>\n",
       "      <td>23</td>\n",
       "    </tr>\n",
       "  </tbody>\n",
       "</table>\n",
       "</div>"
      ],
      "text/plain": [
       "                     Mouse Count\n",
       "Drug      Timepoint             \n",
       "Capomulin 0                   25\n",
       "          5                   25\n",
       "          10                  25\n",
       "          15                  24\n",
       "          20                  23"
      ]
     },
     "execution_count": 108,
     "metadata": {},
     "output_type": "execute_result"
    }
   ],
   "source": [
    "#Dataframe to find Survival count by Drug across time period\n",
    "survival_Group = clinicaltrial_mouseDrug_DF.groupby(['Drug','Timepoint'])\n",
    "survival = survival_Group['Mouse ID'].count()\n",
    "survival_DF = pd.DataFrame(survival)\n",
    "\n",
    "survival_DF = survival_DF.rename({'Mouse ID': 'Mouse Count'}, axis='columns')\n",
    "survival_DF.head()"
   ]
  },
  {
   "cell_type": "code",
   "execution_count": 109,
   "metadata": {},
   "outputs": [
    {
     "data": {
      "text/html": [
       "<div>\n",
       "<style scoped>\n",
       "    .dataframe tbody tr th:only-of-type {\n",
       "        vertical-align: middle;\n",
       "    }\n",
       "\n",
       "    .dataframe tbody tr th {\n",
       "        vertical-align: top;\n",
       "    }\n",
       "\n",
       "    .dataframe thead th {\n",
       "        text-align: right;\n",
       "    }\n",
       "</style>\n",
       "<table border=\"1\" class=\"dataframe\">\n",
       "  <thead>\n",
       "    <tr style=\"text-align: right;\">\n",
       "      <th>Drug</th>\n",
       "      <th>Capomulin</th>\n",
       "      <th>Ceftamin</th>\n",
       "      <th>Infubinol</th>\n",
       "      <th>Ketapril</th>\n",
       "      <th>Naftisol</th>\n",
       "      <th>Placebo</th>\n",
       "      <th>Propriva</th>\n",
       "      <th>Ramicane</th>\n",
       "      <th>Stelasyn</th>\n",
       "      <th>Zoniferol</th>\n",
       "    </tr>\n",
       "    <tr>\n",
       "      <th>Timepoint</th>\n",
       "      <th></th>\n",
       "      <th></th>\n",
       "      <th></th>\n",
       "      <th></th>\n",
       "      <th></th>\n",
       "      <th></th>\n",
       "      <th></th>\n",
       "      <th></th>\n",
       "      <th></th>\n",
       "      <th></th>\n",
       "    </tr>\n",
       "  </thead>\n",
       "  <tbody>\n",
       "    <tr>\n",
       "      <th>0</th>\n",
       "      <td>25</td>\n",
       "      <td>25</td>\n",
       "      <td>25</td>\n",
       "      <td>25</td>\n",
       "      <td>25</td>\n",
       "      <td>25</td>\n",
       "      <td>26</td>\n",
       "      <td>25</td>\n",
       "      <td>26</td>\n",
       "      <td>25</td>\n",
       "    </tr>\n",
       "    <tr>\n",
       "      <th>5</th>\n",
       "      <td>25</td>\n",
       "      <td>21</td>\n",
       "      <td>25</td>\n",
       "      <td>23</td>\n",
       "      <td>23</td>\n",
       "      <td>24</td>\n",
       "      <td>25</td>\n",
       "      <td>25</td>\n",
       "      <td>25</td>\n",
       "      <td>24</td>\n",
       "    </tr>\n",
       "    <tr>\n",
       "      <th>10</th>\n",
       "      <td>25</td>\n",
       "      <td>20</td>\n",
       "      <td>21</td>\n",
       "      <td>22</td>\n",
       "      <td>21</td>\n",
       "      <td>24</td>\n",
       "      <td>23</td>\n",
       "      <td>24</td>\n",
       "      <td>23</td>\n",
       "      <td>22</td>\n",
       "    </tr>\n",
       "    <tr>\n",
       "      <th>15</th>\n",
       "      <td>24</td>\n",
       "      <td>19</td>\n",
       "      <td>21</td>\n",
       "      <td>19</td>\n",
       "      <td>21</td>\n",
       "      <td>20</td>\n",
       "      <td>17</td>\n",
       "      <td>24</td>\n",
       "      <td>23</td>\n",
       "      <td>21</td>\n",
       "    </tr>\n",
       "    <tr>\n",
       "      <th>20</th>\n",
       "      <td>23</td>\n",
       "      <td>18</td>\n",
       "      <td>20</td>\n",
       "      <td>19</td>\n",
       "      <td>20</td>\n",
       "      <td>19</td>\n",
       "      <td>17</td>\n",
       "      <td>23</td>\n",
       "      <td>21</td>\n",
       "      <td>17</td>\n",
       "    </tr>\n",
       "  </tbody>\n",
       "</table>\n",
       "</div>"
      ],
      "text/plain": [
       "Drug       Capomulin  Ceftamin  Infubinol  Ketapril  Naftisol  Placebo  \\\n",
       "Timepoint                                                                \n",
       "0                 25        25         25        25        25       25   \n",
       "5                 25        21         25        23        23       24   \n",
       "10                25        20         21        22        21       24   \n",
       "15                24        19         21        19        21       20   \n",
       "20                23        18         20        19        20       19   \n",
       "\n",
       "Drug       Propriva  Ramicane  Stelasyn  Zoniferol  \n",
       "Timepoint                                           \n",
       "0                26        25        26         25  \n",
       "5                25        25        25         24  \n",
       "10               23        24        23         22  \n",
       "15               17        24        23         21  \n",
       "20               17        23        21         17  "
      ]
     },
     "execution_count": 109,
     "metadata": {},
     "output_type": "execute_result"
    }
   ],
   "source": [
    "#Pivot the data frame so that the data would be available for each drug \n",
    "survival_DF = survival_DF.reset_index()\n",
    "survival_PVT_DF = survival_DF.pivot(index='Timepoint', columns='Drug', values='Mouse Count')\n",
    "survival_PVT_DF.head(5)"
   ]
  },
  {
   "cell_type": "code",
   "execution_count": 110,
   "metadata": {},
   "outputs": [
    {
     "data": {
      "text/plain": [
       "<Container object of 3 artists>"
      ]
     },
     "execution_count": 110,
     "metadata": {},
     "output_type": "execute_result"
    },
    {
     "data": {
      "text/plain": [
       "<Container object of 3 artists>"
      ]
     },
     "execution_count": 110,
     "metadata": {},
     "output_type": "execute_result"
    },
    {
     "data": {
      "text/plain": [
       "<Container object of 3 artists>"
      ]
     },
     "execution_count": 110,
     "metadata": {},
     "output_type": "execute_result"
    },
    {
     "data": {
      "text/plain": [
       "<Container object of 3 artists>"
      ]
     },
     "execution_count": 110,
     "metadata": {},
     "output_type": "execute_result"
    },
    {
     "data": {
      "text/plain": [
       "<matplotlib.legend.Legend at 0x11b252320>"
      ]
     },
     "execution_count": 110,
     "metadata": {},
     "output_type": "execute_result"
    },
    {
     "data": {
      "text/plain": [
       "Text(0.5,0,'Time (Days)')"
      ]
     },
     "execution_count": 110,
     "metadata": {},
     "output_type": "execute_result"
    },
    {
     "data": {
      "text/plain": [
       "Text(0,0.5,'Survival Rate (%)')"
      ]
     },
     "execution_count": 110,
     "metadata": {},
     "output_type": "execute_result"
    },
    {
     "data": {
      "text/plain": [
       "Text(0.5,1,'Survival During Treatment')"
      ]
     },
     "execution_count": 110,
     "metadata": {},
     "output_type": "execute_result"
    },
    {
     "data": {
      "text/plain": [
       "<matplotlib.collections.PathCollection at 0x11b0a93c8>"
      ]
     },
     "execution_count": 110,
     "metadata": {},
     "output_type": "execute_result"
    },
    {
     "data": {
      "text/plain": [
       "<matplotlib.collections.PathCollection at 0x11b0a9ac8>"
      ]
     },
     "execution_count": 110,
     "metadata": {},
     "output_type": "execute_result"
    },
    {
     "data": {
      "text/plain": [
       "<matplotlib.collections.PathCollection at 0x11b0a3c50>"
      ]
     },
     "execution_count": 110,
     "metadata": {},
     "output_type": "execute_result"
    },
    {
     "data": {
      "text/plain": [
       "<matplotlib.collections.PathCollection at 0x11b0a9fd0>"
      ]
     },
     "execution_count": 110,
     "metadata": {},
     "output_type": "execute_result"
    },
    {
     "data": {
      "image/png": "[encoded data removed]",
      "text/plain": [
       "<matplotlib.figure.Figure at 0x11b3cdef0>"
      ]
     },
     "metadata": {},
     "output_type": "display_data"
    }
   ],
   "source": [
    "#create sub datasets for the 4 intereseted drugs \n",
    "Capomulin_survival_DF = survival_DF.loc[(survival_DF['Drug']=='Capomulin')\n",
    "                                          ,['Timepoint','Mouse Count']]\n",
    "Capomulin_survival_DF['Mouse %'] = (Capomulin_survival_DF['Mouse Count']/max(Capomulin_survival_DF['Mouse Count']))*100\n",
    "\n",
    "Infubinol_survival_DF = survival_DF.loc[(survival_DF['Drug']=='Infubinol')\n",
    "                                          ,['Timepoint','Mouse Count']]\n",
    "Infubinol_survival_DF['Mouse %'] = (Infubinol_survival_DF['Mouse Count']/max(Infubinol_survival_DF['Mouse Count']))*100\n",
    "\n",
    "Ketapril_survival_DF = survival_DF.loc[(survival_DF['Drug']=='Ketapril')\n",
    "                                         ,['Timepoint','Mouse Count']]\n",
    "Ketapril_survival_DF['Mouse %'] = (Ketapril_survival_DF['Mouse Count']/max(Ketapril_survival_DF['Mouse Count']))*100\n",
    "\n",
    "Placebo_survival_DF =  survival_DF.loc[(survival_DF['Drug']=='Placebo')\n",
    "                                         ,['Timepoint','Mouse Count']]\n",
    "Placebo_survival_DF['Mouse %'] = (Placebo_survival_DF['Mouse Count']/max(Placebo_survival_DF['Mouse Count']))*100\n",
    "\n",
    "#Plot the error bar and then the scatter plot for Tumor volume across time period\n",
    "plt.errorbar(Capomulin_survival_DF['Timepoint'],Capomulin_survival_DF['Mouse %']\n",
    "             , yerr=0\n",
    "             ,fmt='o',ecolor='r',color='r',ls='dashed',lw=0.5,label='Capomulin',capsize=4)\n",
    "\n",
    "plt.errorbar(Infubinol_survival_DF['Timepoint'],Infubinol_survival_DF['Mouse %']\n",
    "             , yerr=0\n",
    "             ,fmt='^',ecolor='r',color='b',ls='dashed',lw=0.5,label='Infubinol',capsize=4)\n",
    "\n",
    "plt.errorbar(Ketapril_survival_DF['Timepoint'],Ketapril_survival_DF['Mouse %']\n",
    "             , yerr=0\n",
    "             ,fmt='s',ecolor='r',color='g',ls='dashed',lw=0.5,label='Ketapril',capsize=4)\n",
    "\n",
    "plt.errorbar(Placebo_survival_DF['Timepoint'],Placebo_survival_DF['Mouse %']\n",
    "             , yerr=0\n",
    "             ,fmt='D',ecolor='r',color='black',ls='dashed',lw=0.5,label='Placebo',capsize=4)\n",
    "\n",
    "\n",
    "plt.legend(('Capomulin', 'Infubinol','Ketapril','Placebo'))\n",
    "\n",
    "\n",
    "plt.grid(linestyle='-', linewidth=0.5)\n",
    "plt.xlabel(\"Time (Days)\")\n",
    "plt.ylabel(\"Survival Rate (%)\")\n",
    "plt.title(\"Survival During Treatment\")\n",
    "\n",
    "\n",
    "plt.scatter(Capomulin_survival_DF['Timepoint'],Capomulin_survival_DF['Mouse %']\n",
    "            , marker='o',color=\"red\", label=\"Capomulin\")\n",
    "plt.scatter(Infubinol_survival_DF['Timepoint'],Infubinol_survival_DF['Mouse %']\n",
    "            , marker='^',color=\"blue\", label=\"Infubinol\")\n",
    "plt.scatter(Ketapril_survival_DF['Timepoint'] ,Ketapril_survival_DF['Mouse %'] \n",
    "            , marker='s',color=\"green\", label=\"Ketapril\")\n",
    "plt.scatter(Placebo_survival_DF['Timepoint']  ,Placebo_survival_DF['Mouse %']  \n",
    "            , marker='D',color=\"black\", label=\"Placebo\")\n",
    "\n",
    "plt.show()\n"
   ]
  },
  {
   "cell_type": "markdown",
   "metadata": {},
   "source": [
    "# Summary Bar Graph"
   ]
  },
  {
   "cell_type": "code",
   "execution_count": 112,
   "metadata": {},
   "outputs": [
    {
     "data": {
      "text/html": [
       "<div>\n",
       "<style scoped>\n",
       "    .dataframe tbody tr th:only-of-type {\n",
       "        vertical-align: middle;\n",
       "    }\n",
       "\n",
       "    .dataframe tbody tr th {\n",
       "        vertical-align: top;\n",
       "    }\n",
       "\n",
       "    .dataframe thead th {\n",
       "        text-align: right;\n",
       "    }\n",
       "</style>\n",
       "<table border=\"1\" class=\"dataframe\">\n",
       "  <thead>\n",
       "    <tr style=\"text-align: right;\">\n",
       "      <th></th>\n",
       "      <th>Drug</th>\n",
       "      <th>Time0</th>\n",
       "      <th>Time45</th>\n",
       "      <th>45-0</th>\n",
       "      <th>45-0%</th>\n",
       "      <th>color</th>\n",
       "    </tr>\n",
       "  </thead>\n",
       "  <tbody>\n",
       "    <tr>\n",
       "      <th>0</th>\n",
       "      <td>Capomulin</td>\n",
       "      <td>45.0</td>\n",
       "      <td>36.233333</td>\n",
       "      <td>-8.766667</td>\n",
       "      <td>-19.481481</td>\n",
       "      <td>green</td>\n",
       "    </tr>\n",
       "    <tr>\n",
       "      <th>1</th>\n",
       "      <td>Ceftamin</td>\n",
       "      <td>45.0</td>\n",
       "      <td>64.115385</td>\n",
       "      <td>19.115385</td>\n",
       "      <td>42.478632</td>\n",
       "      <td>red</td>\n",
       "    </tr>\n",
       "    <tr>\n",
       "      <th>2</th>\n",
       "      <td>Infubinol</td>\n",
       "      <td>45.0</td>\n",
       "      <td>65.755556</td>\n",
       "      <td>20.755556</td>\n",
       "      <td>46.123457</td>\n",
       "      <td>red</td>\n",
       "    </tr>\n",
       "    <tr>\n",
       "      <th>3</th>\n",
       "      <td>Ketapril</td>\n",
       "      <td>45.0</td>\n",
       "      <td>70.672727</td>\n",
       "      <td>25.672727</td>\n",
       "      <td>57.050505</td>\n",
       "      <td>red</td>\n",
       "    </tr>\n",
       "    <tr>\n",
       "      <th>4</th>\n",
       "      <td>Naftisol</td>\n",
       "      <td>45.0</td>\n",
       "      <td>69.276923</td>\n",
       "      <td>24.276923</td>\n",
       "      <td>53.948718</td>\n",
       "      <td>red</td>\n",
       "    </tr>\n",
       "  </tbody>\n",
       "</table>\n",
       "</div>"
      ],
      "text/plain": [
       "        Drug  Time0     Time45       45-0      45-0%  color\n",
       "0  Capomulin   45.0  36.233333  -8.766667 -19.481481  green\n",
       "1   Ceftamin   45.0  64.115385  19.115385  42.478632    red\n",
       "2  Infubinol   45.0  65.755556  20.755556  46.123457    red\n",
       "3   Ketapril   45.0  70.672727  25.672727  57.050505    red\n",
       "4   Naftisol   45.0  69.276923  24.276923  53.948718    red"
      ]
     },
     "execution_count": 112,
     "metadata": {},
     "output_type": "execute_result"
    }
   ],
   "source": [
    "#create a sub data set to hold the tumor volumns for day 0 and Day 45\n",
    "drug_summary_0_45 = tumorResponse_DF.loc[((tumorResponse_DF['Timepoint'] == 0)|(tumorResponse_DF['Timepoint'] == 45)),:]\n",
    "drug_summary_0_45_PVT = drug_summary_0_45.pivot(index='Drug', columns='Timepoint', values='Tumor Volume (mm3)')\n",
    "\n",
    "drug_summary_0_45_PVT = drug_summary_0_45_PVT.reset_index()\n",
    "drug_summary_0_45_PVT.columns = ['Drug','Time0','Time45']\n",
    "\n",
    "drug_summary_0_45_PVT['45-0'] = drug_summary_0_45_PVT['Time45'] - drug_summary_0_45_PVT['Time0']\n",
    "drug_summary_0_45_PVT['45-0%'] = (drug_summary_0_45_PVT['45-0'] / drug_summary_0_45_PVT['Time0'])*100\n",
    "drug_summary_0_45_PVT['color'] = np.where(drug_summary_0_45_PVT['45-0%'] < 0, 'green', 'red')\n",
    "drug_summary_0_45_PVT.head()"
   ]
  },
  {
   "cell_type": "code",
   "execution_count": 124,
   "metadata": {},
   "outputs": [
    {
     "data": {
      "text/plain": [
       "<Container object of 4 artists>"
      ]
     },
     "execution_count": 124,
     "metadata": {},
     "output_type": "execute_result"
    },
    {
     "data": {
      "text/plain": [
       "Text(0,0.5,'% Tumor Volume Change')"
      ]
     },
     "execution_count": 124,
     "metadata": {},
     "output_type": "execute_result"
    },
    {
     "data": {
      "text/plain": [
       "Text(0.5,1,'Tumor Change Over 45 Day Treatment')"
      ]
     },
     "execution_count": 124,
     "metadata": {},
     "output_type": "execute_result"
    },
    {
     "name": "stdout",
     "output_type": "stream",
     "text": [
      "0   -19.481481\n",
      "1    46.123457\n",
      "2    57.050505\n",
      "3    51.272727\n",
      "Name: 45-0%, dtype: float64\n"
     ]
    },
    {
     "data": {
      "text/plain": [
       "Text(0,-9.74074,'-19.48%')"
      ]
     },
     "execution_count": 124,
     "metadata": {},
     "output_type": "execute_result"
    },
    {
     "data": {
      "text/plain": [
       "Text(1,23.0617,'46.12%')"
      ]
     },
     "execution_count": 124,
     "metadata": {},
     "output_type": "execute_result"
    },
    {
     "data": {
      "text/plain": [
       "Text(2,28.5253,'57.05%')"
      ]
     },
     "execution_count": 124,
     "metadata": {},
     "output_type": "execute_result"
    },
    {
     "data": {
      "text/plain": [
       "Text(3,25.6364,'51.27%')"
      ]
     },
     "execution_count": 124,
     "metadata": {},
     "output_type": "execute_result"
    },
    {
     "data": {
      "image/png": "[encoded data removed]",
      "text/plain": [
       "<matplotlib.figure.Figure at 0x11b1dbf28>"
      ]
     },
     "metadata": {},
     "output_type": "display_data"
    }
   ],
   "source": [
    "#create the subset for holding the values for 4 drugs we are interested to analyze.\n",
    "drug_summary_df = drug_summary_0_45_PVT.loc[( (drug_summary_0_45_PVT['Drug'] == 'Capomulin')|\n",
    "                                              (drug_summary_0_45_PVT['Drug'] == 'Infubinol')|\n",
    "                                              (drug_summary_0_45_PVT['Drug'] == 'Ketapril')|\n",
    "                                              (drug_summary_0_45_PVT['Drug'] == 'Placebo')) \n",
    "                                           ,:]\n",
    "#create bar plot \n",
    "plt.bar(drug_summary_df['Drug'], drug_summary_df['45-0%'], color=drug_summary_df['color']\n",
    "        , alpha=0.75, align=\"center\",width=1,edgecolor='black')\n",
    "plt.grid(linestyle='-', linewidth=0.25)\n",
    "plt.ylabel(\"% Tumor Volume Change\")\n",
    "plt.title(\"Tumor Change Over 45 Day Treatment\")\n",
    "\n",
    "#create a list of labels for each bar\n",
    "label_df = drug_summary_df['45-0%']\n",
    "label_df = label_df.rename({2: 1, 3: 2,5:3})\n",
    "print(label_df)\n",
    "\n",
    "for a in [0,1,2,3]:\n",
    "    plt.annotate(\n",
    "            '{:,.2f}%'.format(label_df[a]),  # Use values formated as label\n",
    "            (a, label_df[a]/2),              # Place label at center of the bar\n",
    "            ha='center',color='white')                   # align to center\n",
    "  "
   ]
  },
  {
   "cell_type": "code",
   "execution_count": null,
   "metadata": {
    "collapsed": true
   },
   "outputs": [],
   "source": []
  },
  {
   "cell_type": "code",
   "execution_count": null,
   "metadata": {
    "collapsed": true
   },
   "outputs": [],
   "source": []
  }
 ],
 "metadata": {
  "kernelspec": {
   "display_name": "Python [conda env:PythonData1]",
   "language": "python",
   "name": "conda-env-PythonData1-py"
  },
  "language_info": {
   "codemirror_mode": {
    "name": "ipython",
    "version": 3
   },
   "file_extension": ".py",
   "mimetype": "text/x-python",
   "name": "python",
   "nbconvert_exporter": "python",
   "pygments_lexer": "ipython3",
   "version": "3.6.4"
  }
 },
 "nbformat": 4,
 "nbformat_minor": 2
}
