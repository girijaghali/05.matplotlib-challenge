{
 "cells": [
  {
   "cell_type": "code",
   "execution_count": 3,
   "metadata": {
    "collapsed": true
   },
   "outputs": [],
   "source": [
    "import os\n",
    "import pandas as pd\n",
    "import numpy as np\n",
    "import matplotlib.pyplot as plt\n",
    "import seaborn as sns\n",
    "#from IPython.core.interactiveshell import InteractiveShell\n",
    "#InteractiveShell.ast_node_interactivity = \"all\"\n",
    "from numpy.random import randn"
   ]
  },
  {
   "cell_type": "code",
   "execution_count": 4,
   "metadata": {},
   "outputs": [
    {
     "data": {
      "text/plain": [
       "city             object\n",
       "date             object\n",
       "datetime         object\n",
       "fare            float64\n",
       "ride_id           int64\n",
       "driver_count      int64\n",
       "type             object\n",
       "dtype: object"
      ]
     },
     "execution_count": 4,
     "metadata": {},
     "output_type": "execute_result"
    }
   ],
   "source": [
    "city_data = os.path.join('raw_data','city_data.csv')\n",
    "ride_data = os.path.join('raw_data','ride_data.csv')\n",
    "\n",
    "city_PD = pd.read_csv(city_data)\n",
    "ride_PD = pd.read_csv(ride_data)\n",
    "\n",
    "city_ride_PD = pd.merge(city_PD,ride_PD,on='city')\n",
    "\n",
    "\n",
    "city_ride_PD['datetime'] = city_ride_PD['date']\n",
    "city_ride_PD['date'] = pd.to_datetime(city_ride_PD['date']).dt.date\n",
    "city_ride_PD = city_ride_PD [[\"city\",\"date\",'datetime',\"fare\",\"ride_id\",\"driver_count\",\"type\"]]\n",
    "city_PD.head(2)\n",
    "ride_PD.head(2)\n",
    "city_ride_PD.head(2)\n",
    "city_ride_PD.dtypes\n",
    "\n"
   ]
  },
  {
   "cell_type": "code",
   "execution_count": 5,
   "metadata": {},
   "outputs": [
    {
     "data": {
      "text/html": [
       "<div>\n",
       "<style>\n",
       "    .dataframe thead tr:only-child th {\n",
       "        text-align: right;\n",
       "    }\n",
       "\n",
       "    .dataframe thead th {\n",
       "        text-align: left;\n",
       "    }\n",
       "\n",
       "    .dataframe tbody tr th {\n",
       "        vertical-align: top;\n",
       "    }\n",
       "</style>\n",
       "<table border=\"1\" class=\"dataframe\">\n",
       "  <thead>\n",
       "    <tr style=\"text-align: right;\">\n",
       "      <th></th>\n",
       "      <th>Average Fare</th>\n",
       "      <th>City_Type</th>\n",
       "      <th>Total Drivers</th>\n",
       "      <th>Total Rides</th>\n",
       "      <th>Color</th>\n",
       "    </tr>\n",
       "    <tr>\n",
       "      <th>city</th>\n",
       "      <th></th>\n",
       "      <th></th>\n",
       "      <th></th>\n",
       "      <th></th>\n",
       "      <th></th>\n",
       "    </tr>\n",
       "  </thead>\n",
       "  <tbody>\n",
       "    <tr>\n",
       "      <th>Alvarezhaven</th>\n",
       "      <td>23.928710</td>\n",
       "      <td>Urban</td>\n",
       "      <td>21</td>\n",
       "      <td>31</td>\n",
       "      <td>yellow</td>\n",
       "    </tr>\n",
       "    <tr>\n",
       "      <th>Alyssaberg</th>\n",
       "      <td>20.609615</td>\n",
       "      <td>Urban</td>\n",
       "      <td>67</td>\n",
       "      <td>26</td>\n",
       "      <td>yellow</td>\n",
       "    </tr>\n",
       "  </tbody>\n",
       "</table>\n",
       "</div>"
      ],
      "text/plain": [
       "              Average Fare City_Type  Total Drivers  Total Rides   Color\n",
       "city                                                                    \n",
       "Alvarezhaven     23.928710     Urban             21           31  yellow\n",
       "Alyssaberg       20.609615     Urban             67           26  yellow"
      ]
     },
     "execution_count": 5,
     "metadata": {},
     "output_type": "execute_result"
    }
   ],
   "source": [
    "city_group = city_ride_PD.groupby('city')\n",
    "total_rides = city_group[\"ride_id\"].count()\n",
    "avg_fare =  city_group[\"fare\"].mean()\n",
    "total_drivers = city_group[\"driver_count\"].min()\n",
    "city_type = city_group[\"type\"].min()\n",
    "\n",
    "\n",
    "#df[ (df.A=='blue') & (df.B=='red') & (df.C=='square') ]['D'] = 'succeed'\n",
    "\n",
    "City_Summary_PD = pd.DataFrame({\n",
    "    \"Total Rides\": total_rides,\n",
    "    \"Total Drivers\": total_drivers,\n",
    "    \"Average Fare\" : avg_fare,\n",
    "    \"City_Type\": city_type\n",
    "})\n",
    "\n",
    "\n",
    "City_Summary_PD.loc[City_Summary_PD.City_Type == 'Urban','Color'] = \"yellow\"\n",
    "City_Summary_PD.loc[City_Summary_PD.City_Type == 'Suburban','Color'] = \"lightblue\"\n",
    "City_Summary_PD.loc[City_Summary_PD.City_Type == 'Rural','Color'] = \"orange\"\n",
    "City_Summary_PD.head(2)"
   ]
  },
  {
   "cell_type": "code",
   "execution_count": 17,
   "metadata": {},
   "outputs": [
    {
     "ename": "KeyError",
     "evalue": "'[  1.           4.           5.           6.           7.           8.           9.\\n  10.          11.          12.          13.          14.          15.          16.\\n  17.          18.          19.          19.523       20.          20.60961538\\n  21.          21.07285714  21.3326087   21.47466667  21.4825      21.4972\\n  21.52857143  21.614       21.80642857  21.98157895  22.          22.22521739\\n  22.32952381  22.33034483  22.36833333  22.48608696  22.67684211\\n  22.78888889  22.94703704  22.97809524  23.          23.03458333\\n  23.10592593  23.3075      23.34666667  23.49        23.625       23.68115385\\n  23.92870968  24.          24.13        24.15766667  24.15772727\\n  24.16947368  24.20730769  24.28        24.47821429  24.59857143\\n  24.65761905  24.77935484  24.87548387  24.96678571  24.97181818  25.\\n  25.10645161  25.3496      25.39551724  25.43625     25.47894737\\n  25.54933333  25.88294118  25.89961538  26.          26.03136364\\n  26.16909091  26.31666667  26.36772727  26.51666667  26.61        26.72\\n  26.82375     26.84428571  26.856       26.86181818  26.87666667\\n  26.99032258  27.          27.01333333  27.04740741  27.08428571  27.0875\\n  27.2055      27.22086957  27.3348      27.46470588  27.83166667  28.\\n  28.242       28.30166667  28.42892857  28.45461538  28.4735      28.51\\n  28.698       28.75277778  29.          29.52047619  29.60947368  29.72125\\n  29.79117647  29.79875     30.          30.04375     30.30833333\\n  30.49888889  31.          31.03461538  31.05166667  31.14461538  31.1675\\n  31.19388889  31.34578947  31.41615385  31.8065625   31.8665      31.90285714\\n  31.948       32.          32.00222222  32.00666667  32.31        32.38666667\\n  32.59947368  32.81058824  33.16555556  33.24428571  33.27823529\\n  33.66090909  33.71133333  33.79928571  33.862       34.          34.06913043\\n  34.27818182  34.59181818  34.82833333  34.98        35.0425      36.606\\n  36.928       37.31555556  38.146       38.98333333  39.053       43.5325\\n  49.62        64.        ] not in index'",
     "output_type": "error",
     "traceback": [
      "\u001b[0;31m---------------------------------------------------------------------------\u001b[0m",
      "\u001b[0;31mKeyError\u001b[0m                                  Traceback (most recent call last)",
      "\u001b[0;32m<ipython-input-17-b3d2efad8354>\u001b[0m in \u001b[0;36m<module>\u001b[0;34m()\u001b[0m\n\u001b[1;32m      1\u001b[0m sns.lmplot(x=City_Summary_PD['Total Rides'], y=City_Summary_PD['Average Fare'],data = City_Summary_PD\n\u001b[0;32m----> 2\u001b[0;31m            \u001b[0;34m,\u001b[0m\u001b[0mmarkers\u001b[0m\u001b[0;34m=\u001b[0m\u001b[0;34m[\u001b[0m\u001b[0;34m\"o\"\u001b[0m\u001b[0;34m,\u001b[0m\u001b[0;34m\"o\"\u001b[0m\u001b[0;34m,\u001b[0m\u001b[0;34m\"o\"\u001b[0m\u001b[0;34m]\u001b[0m\u001b[0;34m,\u001b[0m\u001b[0mpalette\u001b[0m\u001b[0;34m=\u001b[0m\u001b[0mCity_Summary_PD\u001b[0m\u001b[0;34m[\u001b[0m\u001b[0;34m'Color'\u001b[0m\u001b[0;34m]\u001b[0m\u001b[0;34m\u001b[0m\u001b[0m\n\u001b[0m\u001b[1;32m      3\u001b[0m           )\n",
      "\u001b[0;32m~/anaconda3/lib/python3.6/site-packages/seaborn/regression.py\u001b[0m in \u001b[0;36mlmplot\u001b[0;34m(x, y, data, hue, col, row, palette, col_wrap, size, aspect, markers, sharex, sharey, hue_order, col_order, row_order, legend, legend_out, x_estimator, x_bins, x_ci, scatter, fit_reg, ci, n_boot, units, order, logistic, lowess, robust, logx, x_partial, y_partial, truncate, x_jitter, y_jitter, scatter_kws, line_kws)\u001b[0m\n\u001b[1;32m    550\u001b[0m     \u001b[0mneed_cols\u001b[0m \u001b[0;34m=\u001b[0m \u001b[0;34m[\u001b[0m\u001b[0mx\u001b[0m\u001b[0;34m,\u001b[0m \u001b[0my\u001b[0m\u001b[0;34m,\u001b[0m \u001b[0mhue\u001b[0m\u001b[0;34m,\u001b[0m \u001b[0mcol\u001b[0m\u001b[0;34m,\u001b[0m \u001b[0mrow\u001b[0m\u001b[0;34m,\u001b[0m \u001b[0munits\u001b[0m\u001b[0;34m,\u001b[0m \u001b[0mx_partial\u001b[0m\u001b[0;34m,\u001b[0m \u001b[0my_partial\u001b[0m\u001b[0;34m]\u001b[0m\u001b[0;34m\u001b[0m\u001b[0m\n\u001b[1;32m    551\u001b[0m     \u001b[0mcols\u001b[0m \u001b[0;34m=\u001b[0m \u001b[0mnp\u001b[0m\u001b[0;34m.\u001b[0m\u001b[0munique\u001b[0m\u001b[0;34m(\u001b[0m\u001b[0;34m[\u001b[0m\u001b[0ma\u001b[0m \u001b[0;32mfor\u001b[0m \u001b[0ma\u001b[0m \u001b[0;32min\u001b[0m \u001b[0mneed_cols\u001b[0m \u001b[0;32mif\u001b[0m \u001b[0ma\u001b[0m \u001b[0;32mis\u001b[0m \u001b[0;32mnot\u001b[0m \u001b[0;32mNone\u001b[0m\u001b[0;34m]\u001b[0m\u001b[0;34m)\u001b[0m\u001b[0;34m.\u001b[0m\u001b[0mtolist\u001b[0m\u001b[0;34m(\u001b[0m\u001b[0;34m)\u001b[0m\u001b[0;34m\u001b[0m\u001b[0m\n\u001b[0;32m--> 552\u001b[0;31m     \u001b[0mdata\u001b[0m \u001b[0;34m=\u001b[0m \u001b[0mdata\u001b[0m\u001b[0;34m[\u001b[0m\u001b[0mcols\u001b[0m\u001b[0;34m]\u001b[0m\u001b[0;34m\u001b[0m\u001b[0m\n\u001b[0m\u001b[1;32m    553\u001b[0m \u001b[0;34m\u001b[0m\u001b[0m\n\u001b[1;32m    554\u001b[0m     \u001b[0;31m# Initialize the grid\u001b[0m\u001b[0;34m\u001b[0m\u001b[0;34m\u001b[0m\u001b[0m\n",
      "\u001b[0;32m~/anaconda3/lib/python3.6/site-packages/pandas/core/frame.py\u001b[0m in \u001b[0;36m__getitem__\u001b[0;34m(self, key)\u001b[0m\n\u001b[1;32m   1956\u001b[0m         \u001b[0;32mif\u001b[0m \u001b[0misinstance\u001b[0m\u001b[0;34m(\u001b[0m\u001b[0mkey\u001b[0m\u001b[0;34m,\u001b[0m \u001b[0;34m(\u001b[0m\u001b[0mSeries\u001b[0m\u001b[0;34m,\u001b[0m \u001b[0mnp\u001b[0m\u001b[0;34m.\u001b[0m\u001b[0mndarray\u001b[0m\u001b[0;34m,\u001b[0m \u001b[0mIndex\u001b[0m\u001b[0;34m,\u001b[0m \u001b[0mlist\u001b[0m\u001b[0;34m)\u001b[0m\u001b[0;34m)\u001b[0m\u001b[0;34m:\u001b[0m\u001b[0;34m\u001b[0m\u001b[0m\n\u001b[1;32m   1957\u001b[0m             \u001b[0;31m# either boolean or fancy integer index\u001b[0m\u001b[0;34m\u001b[0m\u001b[0;34m\u001b[0m\u001b[0m\n\u001b[0;32m-> 1958\u001b[0;31m             \u001b[0;32mreturn\u001b[0m \u001b[0mself\u001b[0m\u001b[0;34m.\u001b[0m\u001b[0m_getitem_array\u001b[0m\u001b[0;34m(\u001b[0m\u001b[0mkey\u001b[0m\u001b[0;34m)\u001b[0m\u001b[0;34m\u001b[0m\u001b[0m\n\u001b[0m\u001b[1;32m   1959\u001b[0m         \u001b[0;32melif\u001b[0m \u001b[0misinstance\u001b[0m\u001b[0;34m(\u001b[0m\u001b[0mkey\u001b[0m\u001b[0;34m,\u001b[0m \u001b[0mDataFrame\u001b[0m\u001b[0;34m)\u001b[0m\u001b[0;34m:\u001b[0m\u001b[0;34m\u001b[0m\u001b[0m\n\u001b[1;32m   1960\u001b[0m             \u001b[0;32mreturn\u001b[0m \u001b[0mself\u001b[0m\u001b[0;34m.\u001b[0m\u001b[0m_getitem_frame\u001b[0m\u001b[0;34m(\u001b[0m\u001b[0mkey\u001b[0m\u001b[0;34m)\u001b[0m\u001b[0;34m\u001b[0m\u001b[0m\n",
      "\u001b[0;32m~/anaconda3/lib/python3.6/site-packages/pandas/core/frame.py\u001b[0m in \u001b[0;36m_getitem_array\u001b[0;34m(self, key)\u001b[0m\n\u001b[1;32m   2000\u001b[0m             \u001b[0;32mreturn\u001b[0m \u001b[0mself\u001b[0m\u001b[0;34m.\u001b[0m\u001b[0mtake\u001b[0m\u001b[0;34m(\u001b[0m\u001b[0mindexer\u001b[0m\u001b[0;34m,\u001b[0m \u001b[0maxis\u001b[0m\u001b[0;34m=\u001b[0m\u001b[0;36m0\u001b[0m\u001b[0;34m,\u001b[0m \u001b[0mconvert\u001b[0m\u001b[0;34m=\u001b[0m\u001b[0;32mFalse\u001b[0m\u001b[0;34m)\u001b[0m\u001b[0;34m\u001b[0m\u001b[0m\n\u001b[1;32m   2001\u001b[0m         \u001b[0;32melse\u001b[0m\u001b[0;34m:\u001b[0m\u001b[0;34m\u001b[0m\u001b[0m\n\u001b[0;32m-> 2002\u001b[0;31m             \u001b[0mindexer\u001b[0m \u001b[0;34m=\u001b[0m \u001b[0mself\u001b[0m\u001b[0;34m.\u001b[0m\u001b[0mloc\u001b[0m\u001b[0;34m.\u001b[0m\u001b[0m_convert_to_indexer\u001b[0m\u001b[0;34m(\u001b[0m\u001b[0mkey\u001b[0m\u001b[0;34m,\u001b[0m \u001b[0maxis\u001b[0m\u001b[0;34m=\u001b[0m\u001b[0;36m1\u001b[0m\u001b[0;34m)\u001b[0m\u001b[0;34m\u001b[0m\u001b[0m\n\u001b[0m\u001b[1;32m   2003\u001b[0m             \u001b[0;32mreturn\u001b[0m \u001b[0mself\u001b[0m\u001b[0;34m.\u001b[0m\u001b[0mtake\u001b[0m\u001b[0;34m(\u001b[0m\u001b[0mindexer\u001b[0m\u001b[0;34m,\u001b[0m \u001b[0maxis\u001b[0m\u001b[0;34m=\u001b[0m\u001b[0;36m1\u001b[0m\u001b[0;34m,\u001b[0m \u001b[0mconvert\u001b[0m\u001b[0;34m=\u001b[0m\u001b[0;32mTrue\u001b[0m\u001b[0;34m)\u001b[0m\u001b[0;34m\u001b[0m\u001b[0m\n\u001b[1;32m   2004\u001b[0m \u001b[0;34m\u001b[0m\u001b[0m\n",
      "\u001b[0;32m~/anaconda3/lib/python3.6/site-packages/pandas/core/indexing.py\u001b[0m in \u001b[0;36m_convert_to_indexer\u001b[0;34m(self, obj, axis, is_setter)\u001b[0m\n\u001b[1;32m   1229\u001b[0m                 \u001b[0mmask\u001b[0m \u001b[0;34m=\u001b[0m \u001b[0mcheck\u001b[0m \u001b[0;34m==\u001b[0m \u001b[0;34m-\u001b[0m\u001b[0;36m1\u001b[0m\u001b[0;34m\u001b[0m\u001b[0m\n\u001b[1;32m   1230\u001b[0m                 \u001b[0;32mif\u001b[0m \u001b[0mmask\u001b[0m\u001b[0;34m.\u001b[0m\u001b[0many\u001b[0m\u001b[0;34m(\u001b[0m\u001b[0;34m)\u001b[0m\u001b[0;34m:\u001b[0m\u001b[0;34m\u001b[0m\u001b[0m\n\u001b[0;32m-> 1231\u001b[0;31m                     \u001b[0;32mraise\u001b[0m \u001b[0mKeyError\u001b[0m\u001b[0;34m(\u001b[0m\u001b[0;34m'%s not in index'\u001b[0m \u001b[0;34m%\u001b[0m \u001b[0mobjarr\u001b[0m\u001b[0;34m[\u001b[0m\u001b[0mmask\u001b[0m\u001b[0;34m]\u001b[0m\u001b[0;34m)\u001b[0m\u001b[0;34m\u001b[0m\u001b[0m\n\u001b[0m\u001b[1;32m   1232\u001b[0m \u001b[0;34m\u001b[0m\u001b[0m\n\u001b[1;32m   1233\u001b[0m                 \u001b[0;32mreturn\u001b[0m \u001b[0m_values_from_object\u001b[0m\u001b[0;34m(\u001b[0m\u001b[0mindexer\u001b[0m\u001b[0;34m)\u001b[0m\u001b[0;34m\u001b[0m\u001b[0m\n",
      "\u001b[0;31mKeyError\u001b[0m: '[  1.           4.           5.           6.           7.           8.           9.\\n  10.          11.          12.          13.          14.          15.          16.\\n  17.          18.          19.          19.523       20.          20.60961538\\n  21.          21.07285714  21.3326087   21.47466667  21.4825      21.4972\\n  21.52857143  21.614       21.80642857  21.98157895  22.          22.22521739\\n  22.32952381  22.33034483  22.36833333  22.48608696  22.67684211\\n  22.78888889  22.94703704  22.97809524  23.          23.03458333\\n  23.10592593  23.3075      23.34666667  23.49        23.625       23.68115385\\n  23.92870968  24.          24.13        24.15766667  24.15772727\\n  24.16947368  24.20730769  24.28        24.47821429  24.59857143\\n  24.65761905  24.77935484  24.87548387  24.96678571  24.97181818  25.\\n  25.10645161  25.3496      25.39551724  25.43625     25.47894737\\n  25.54933333  25.88294118  25.89961538  26.          26.03136364\\n  26.16909091  26.31666667  26.36772727  26.51666667  26.61        26.72\\n  26.82375     26.84428571  26.856       26.86181818  26.87666667\\n  26.99032258  27.          27.01333333  27.04740741  27.08428571  27.0875\\n  27.2055      27.22086957  27.3348      27.46470588  27.83166667  28.\\n  28.242       28.30166667  28.42892857  28.45461538  28.4735      28.51\\n  28.698       28.75277778  29.          29.52047619  29.60947368  29.72125\\n  29.79117647  29.79875     30.          30.04375     30.30833333\\n  30.49888889  31.          31.03461538  31.05166667  31.14461538  31.1675\\n  31.19388889  31.34578947  31.41615385  31.8065625   31.8665      31.90285714\\n  31.948       32.          32.00222222  32.00666667  32.31        32.38666667\\n  32.59947368  32.81058824  33.16555556  33.24428571  33.27823529\\n  33.66090909  33.71133333  33.79928571  33.862       34.          34.06913043\\n  34.27818182  34.59181818  34.82833333  34.98        35.0425      36.606\\n  36.928       37.31555556  38.146       38.98333333  39.053       43.5325\\n  49.62        64.        ] not in index'"
     ]
    }
   ],
   "source": [
    "sns.lmplot(x=City_Summary_PD['Total Rides'], y=City_Summary_PD['Average Fare'],data = City_Summary_PD\n",
    "           ,markers=[\"o\",\"o\",\"o\"],palette=City_Summary_PD['Color']\n",
    "          )"
   ]
  },
  {
   "cell_type": "markdown",
   "metadata": {},
   "source": [
    "# Bubble Plot of Ride Sharing Data"
   ]
  },
  {
   "cell_type": "code",
   "execution_count": 6,
   "metadata": {},
   "outputs": [
    {
     "data": {
      "image/png": "[encoded data removed]",
      "text/plain": [
       "<matplotlib.figure.Figure at 0x1a0dc14b38>"
      ]
     },
     "metadata": {},
     "output_type": "display_data"
    }
   ],
   "source": [
    "urban_Summary_PD = City_Summary_PD.loc[City_Summary_PD[\"City_Type\"] == \"Urban\",:]\n",
    "suburban_Summary_PD = City_Summary_PD.loc[City_Summary_PD[\"City_Type\"] == \"Suburban\",:]\n",
    "rural_Summary_PD = City_Summary_PD.loc[City_Summary_PD[\"City_Type\"] == \"Rural\",:]\n",
    "\n",
    "\n",
    "urban_plot = plt.scatter(x=urban_Summary_PD['Total Rides'], y=urban_Summary_PD['Average Fare']\n",
    "                              ,marker=\"o\",c=urban_Summary_PD['Color'], edgecolors=\"black\"\n",
    "                              ,s=urban_Summary_PD['Total Drivers']*5,alpha=0.5,label=urban_Summary_PD['City_Type'])\n",
    "\n",
    "suburban_plot = plt.scatter(x=suburban_Summary_PD['Total Rides'], y=suburban_Summary_PD['Average Fare']\n",
    "                              ,marker=\"o\",c=suburban_Summary_PD['Color'], edgecolors=\"black\"\n",
    "                              ,s=suburban_Summary_PD['Total Drivers']*5,alpha=0.5,label=suburban_Summary_PD['City_Type'])\n",
    "\n",
    "rural_plot = plt.scatter(x=rural_Summary_PD['Total Rides'], y=rural_Summary_PD['Average Fare']\n",
    "                              ,marker=\"o\",c=rural_Summary_PD['Color'], edgecolors=\"black\"\n",
    "                              ,s=rural_Summary_PD['Total Drivers']*5,alpha=0.5,label=rural_Summary_PD['City_Type'])\n",
    "   \n",
    "plt.axis([0, 40, 10, 45])\n",
    "plt.grid(linestyle='-', linewidth=0.5)\n",
    "plt.xlabel(\"Total number of rides (per city)\")\n",
    "plt.ylabel(\"Average fare $\")\n",
    "plt.title(\"Pyber ride sharing data (2016)\")\n",
    "plt.text(45, 40, 'Note: \\n Circle size correlates with driver count per city')\n",
    "        #, bbox=dict(facecolor='red', alpha=0.5))\n",
    "plt.legend((urban_plot, suburban_plot, rural_plot),('Urban', 'Suburban','Rural'))\n",
    "\n",
    "plt.show()\n",
    "\n",
    "\n",
    "\n"
   ]
  },
  {
   "cell_type": "code",
   "execution_count": 8,
   "metadata": {},
   "outputs": [
    {
     "ename": "TypeError",
     "evalue": "lmplot() got an unexpected keyword argument 'c'",
     "output_type": "error",
     "traceback": [
      "\u001b[0;31m---------------------------------------------------------------------------\u001b[0m",
      "\u001b[0;31mTypeError\u001b[0m                                 Traceback (most recent call last)",
      "\u001b[0;32m<ipython-input-8-fb7ede242449>\u001b[0m in \u001b[0;36m<module>\u001b[0;34m()\u001b[0m\n\u001b[1;32m      1\u001b[0m sns.lmplot(x=urban_Summary_PD['Total Rides'], y=urban_Summary_PD['Average Fare'],data = urban_Summary_PD\n\u001b[1;32m      2\u001b[0m            \u001b[0;34m,\u001b[0m\u001b[0mmarkers\u001b[0m\u001b[0;34m=\u001b[0m\u001b[0;34m\"o\"\u001b[0m\u001b[0;34m,\u001b[0m\u001b[0mc\u001b[0m\u001b[0;34m=\u001b[0m\u001b[0murban_Summary_PD\u001b[0m\u001b[0;34m[\u001b[0m\u001b[0;34m'Color'\u001b[0m\u001b[0;34m]\u001b[0m\u001b[0;34m,\u001b[0m \u001b[0medgecolors\u001b[0m\u001b[0;34m=\u001b[0m\u001b[0;34m\"black\"\u001b[0m\u001b[0;34m\u001b[0m\u001b[0m\n\u001b[0;32m----> 3\u001b[0;31m            ,s=urban_Summary_PD['Total Drivers']*5,alpha=0.5,label=urban_Summary_PD['City_Type'])\n\u001b[0m",
      "\u001b[0;31mTypeError\u001b[0m: lmplot() got an unexpected keyword argument 'c'"
     ]
    }
   ],
   "source": []
  },
  {
   "cell_type": "code",
   "execution_count": 247,
   "metadata": {},
   "outputs": [
    {
     "data": {
      "text/html": [
       "<div>\n",
       "<style>\n",
       "    .dataframe thead tr:only-child th {\n",
       "        text-align: right;\n",
       "    }\n",
       "\n",
       "    .dataframe thead th {\n",
       "        text-align: left;\n",
       "    }\n",
       "\n",
       "    .dataframe tbody tr th {\n",
       "        vertical-align: top;\n",
       "    }\n",
       "</style>\n",
       "<table border=\"1\" class=\"dataframe\">\n",
       "  <thead>\n",
       "    <tr style=\"text-align: right;\">\n",
       "      <th></th>\n",
       "      <th>sepal_length</th>\n",
       "      <th>sepal_width</th>\n",
       "      <th>petal_length</th>\n",
       "      <th>petal_width</th>\n",
       "      <th>species</th>\n",
       "    </tr>\n",
       "  </thead>\n",
       "  <tbody>\n",
       "    <tr>\n",
       "      <th>0</th>\n",
       "      <td>5.1</td>\n",
       "      <td>3.5</td>\n",
       "      <td>1.4</td>\n",
       "      <td>0.2</td>\n",
       "      <td>setosa</td>\n",
       "    </tr>\n",
       "    <tr>\n",
       "      <th>1</th>\n",
       "      <td>4.9</td>\n",
       "      <td>3.0</td>\n",
       "      <td>1.4</td>\n",
       "      <td>0.2</td>\n",
       "      <td>setosa</td>\n",
       "    </tr>\n",
       "    <tr>\n",
       "      <th>2</th>\n",
       "      <td>4.7</td>\n",
       "      <td>3.2</td>\n",
       "      <td>1.3</td>\n",
       "      <td>0.2</td>\n",
       "      <td>setosa</td>\n",
       "    </tr>\n",
       "    <tr>\n",
       "      <th>3</th>\n",
       "      <td>4.6</td>\n",
       "      <td>3.1</td>\n",
       "      <td>1.5</td>\n",
       "      <td>0.2</td>\n",
       "      <td>setosa</td>\n",
       "    </tr>\n",
       "    <tr>\n",
       "      <th>4</th>\n",
       "      <td>5.0</td>\n",
       "      <td>3.6</td>\n",
       "      <td>1.4</td>\n",
       "      <td>0.2</td>\n",
       "      <td>setosa</td>\n",
       "    </tr>\n",
       "  </tbody>\n",
       "</table>\n",
       "</div>"
      ],
      "text/plain": [
       "   sepal_length  sepal_width  petal_length  petal_width species\n",
       "0           5.1          3.5           1.4          0.2  setosa\n",
       "1           4.9          3.0           1.4          0.2  setosa\n",
       "2           4.7          3.2           1.3          0.2  setosa\n",
       "3           4.6          3.1           1.5          0.2  setosa\n",
       "4           5.0          3.6           1.4          0.2  setosa"
      ]
     },
     "execution_count": 247,
     "metadata": {},
     "output_type": "execute_result"
    }
   ],
   "source": []
  },
  {
   "cell_type": "markdown",
   "metadata": {},
   "source": [
    "# Total Fares by City Type"
   ]
  },
  {
   "cell_type": "code",
   "execution_count": null,
   "metadata": {
    "collapsed": true
   },
   "outputs": [],
   "source": [
    "cityType_total_fare_percent = (city_ride_PD.groupby('type')['fare'].sum()/sum(city_ride_PD['fare']))*100\n",
    "#cityType_total_fare_percent\n",
    "\n",
    "\n",
    "cityType_total_fare_percent.plot.pie(figsize=(5, 4),shadow=True,startangle=120 \n",
    "                                     , title = '% of Total Fares by City Type' ,autopct=\"%1.1f%%\"\n",
    "                                    ,explode=[0.1,0.1,0],colors=['yellow','lightblue','pink'])\n",
    "plt.axis(\"equal\")\n",
    "plt.ylabel(\" \")\n",
    "plt.show()"
   ]
  },
  {
   "cell_type": "markdown",
   "metadata": {
    "collapsed": true
   },
   "source": [
    "# Total Rides by City Type"
   ]
  },
  {
   "cell_type": "code",
   "execution_count": null,
   "metadata": {
    "collapsed": true
   },
   "outputs": [],
   "source": [
    "cityType_total_ride_percent = (city_ride_PD.groupby('type')['ride_id'].count()/city_ride_PD['ride_id'].count())*100\n",
    "cityType_total_ride_percent\n",
    "print(city_ride_PD.groupby('type')['ride_id'].count())\n",
    "print(city_ride_PD['ride_id'].count())\n",
    "\n",
    "\n",
    "cityType_total_ride_percent.plot.pie(figsize=(5, 4),shadow=True,startangle=120 \n",
    "                                     , title = '% of Total Fares by City Type' ,autopct=\"%1.1f%%\"\n",
    "                                    ,explode=[0.1,0.1,0],colors=['yellow','lightblue','pink'])\n",
    "plt.axis(\"equal\")\n",
    "plt.ylabel(\" \")\n",
    "plt.show()"
   ]
  },
  {
   "cell_type": "markdown",
   "metadata": {},
   "source": [
    "# Total Drivers by City Type"
   ]
  },
  {
   "cell_type": "code",
   "execution_count": null,
   "metadata": {
    "collapsed": true
   },
   "outputs": [],
   "source": [
    "cityType_total_driver_percent = (city_PD.groupby('type')['driver_count'].sum()/sum(city_PD['driver_count']))*100\n",
    "#cityType_total_ride_percent\n",
    "\n",
    "\n",
    "\n",
    "cityType_total_driver_percent.plot.pie(figsize=(5, 4),shadow=True,startangle=150 \n",
    "                                     , title = '% of Total Drivers by City Type' ,autopct=\"%1.1f%%\"\n",
    "                                    ,explode=[0.1,0.1,0],colors=['yellow','lightblue','pink'])\n",
    "plt.axis(\"equal\")\n",
    "plt.ylabel(\" \")\n",
    "plt.show()\n",
    "\n"
   ]
  },
  {
   "cell_type": "code",
   "execution_count": null,
   "metadata": {
    "collapsed": true
   },
   "outputs": [],
   "source": [
    "plt.figure(figsize=(15, 10))\n",
    "\n",
    "for frame in [urban_Summary_PD, suburban_Summary_PD, rural_Summary_PD]:\n",
    "    plt.scatter(x=frame['Total Rides'], y=frame['Average Fare']\n",
    "                              ,marker=\"o\",c=frame['Color'], edgecolors=\"black\"\n",
    "                              ,s=frame['Total Drivers']*5,alpha=0.5,label=frame['City_Type'])\n",
    "\n",
    "plt.legend(plt.scatter,frame['City_Type'])    \n",
    "plt.axis([0, 65, 0, 80])\n",
    "plt.grid(linestyle='-', linewidth=0.5)\n",
    "plt.xlabel(\"Total number of rides (per city)\")\n",
    "plt.ylabel(\"Average fare $\")\n",
    "plt.title(\"Pyber ride sharing data (2016)\")\n",
    "\n",
    "plt.legend([red_dot, (red_dot, white_cross)], [\"Attr A\", \"Attr A+B\"])\n",
    "\n",
    "\n",
    "plt.show()\n",
    "------------\n",
    "#urban_Summary_PD.plot.scatter(x='Total Rides', y='Average Fare'\n",
    "#                              ,marker=\"o\",c=\"red\", edgecolors=\"black\"\n",
    "#                              ,s=urban_Summary_PD['Total Drivers']*20,alpha=0.5)\n",
    "\n",
    "#Suburban_Summary_PD.plot.scatter(x='Total Rides', y='Average Fare'\n",
    "#                              ,marker=\"o\",c=\"blue\", edgecolors=\"black\"\n",
    "#                              ,s=Suburban_Summary_PD['Total Drivers']*20,alpha=0.5)\n",
    "\n",
    "#rural_Summary_PD.plot.scatter(x='Total Rides', y='Average Fare'\n",
    "#                              ,marker=\"o\",c=\"green\", edgecolors=\"black\"\n",
    "#                              ,s=rural_Summary_PD['Total Drivers']*20,alpha=0.5)\n",
    "\n",
    "---------------\n",
    "plt.plot(type = 'scatter' , x=urban_Summary_PD['Total Rides'], y=urban_Summary_PD['Average Fare']\n",
    "                             ,marker=\"o\",c=\"red\", edgecolors=\"black\"\n",
    "                             ,s=urban_Summary_PD['Total Drivers']*20,alpha=0.5)\n",
    "plt.show()\n",
    "\n",
    "----------------\n",
    "z = randn(10)\n",
    "\n",
    "red_dot, = plt.plot(z, \"ro\", markersize=15)\n",
    "# Put a white cross over some of the data.\n",
    "white_cross, = plt.plot(z[:5], \"w+\", markeredgewidth=3, markersize=15)\n",
    "\n",
    "#plt.legend([red_dot, (red_dot, white_cross)], [\"Attr A\", \"Attr A+B\"])\n",
    "\n",
    "plt.legend([red_dot, (red_dot, white_cross)], [\"Attr A\", \"Attr A+B\"])\n",
    "\n",
    "plt.show()"
   ]
  }
 ],
 "metadata": {
  "kernelspec": {
   "display_name": "Python [default]",
   "language": "python",
   "name": "python3"
  },
  "language_info": {
   "codemirror_mode": {
    "name": "ipython",
    "version": 3
   },
   "file_extension": ".py",
   "mimetype": "text/x-python",
   "name": "python",
   "nbconvert_exporter": "python",
   "pygments_lexer": "ipython3",
   "version": "3.6.3"
  }
 },
 "nbformat": 4,
 "nbformat_minor": 2
}
